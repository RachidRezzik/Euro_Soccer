{
 "cells": [
  {
   "cell_type": "code",
   "execution_count": 2,
   "metadata": {},
   "outputs": [],
   "source": [
    "def warn(*args, **kwargs):\n",
    "    pass\n",
    "import warnings\n",
    "warnings.warn = warn\n",
    "\n",
    "import pandas as pd\n",
    "import numpy as np\n",
    "import matplotlib.pyplot as plt\n",
    "import sqlite3\n",
    "import seaborn as sns\n",
    "\n",
    "plt.rcParams['figure.figsize'] = 8, 7\n",
    "plt.rcParams[\"font.weight\"] = \"bold\"\n",
    "plt.rcParams[\"font.family\"] = \"normal\"\n",
    "plt.rcParams[\"font.size\"] = 25\n",
    "plt.rcParams[\"axes.labelweight\"] = \"bold\"\n",
    "plt.rcParams['xtick.labelsize']=18\n",
    "plt.rcParams['ytick.labelsize']=18\n",
    "plt.rcParams['axes.labelsize']=18\n",
    "plt.rcParams['legend.fontsize']: 16\n",
    "    \n",
    "sns.set()\n",
    "\n",
    "pd.set_option('display.max_rows', 500)\n",
    "pd.set_option('display.max_columns', 500)\n",
    "pd.set_option('display.width', 1000)"
   ]
  },
  {
   "cell_type": "code",
   "execution_count": 3,
   "metadata": {},
   "outputs": [
    {
     "name": "stdout",
     "output_type": "stream",
     "text": [
      "    type               name           tbl_name  rootpage                                                sql\n",
      "0  table    sqlite_sequence    sqlite_sequence         4             CREATE TABLE sqlite_sequence(name,seq)\n",
      "1  table  Player_Attributes  Player_Attributes        11  CREATE TABLE \"Player_Attributes\" (\\n\\t`id`\\tIN...\n",
      "2  table             Player             Player        14  CREATE TABLE `Player` (\\n\\t`id`\\tINTEGER PRIMA...\n",
      "3  table              Match              Match        18  CREATE TABLE `Match` (\\n\\t`id`\\tINTEGER PRIMAR...\n",
      "4  table             League             League        24  CREATE TABLE `League` (\\n\\t`id`\\tINTEGER PRIMA...\n",
      "5  table            Country            Country        26  CREATE TABLE `Country` (\\n\\t`id`\\tINTEGER PRIM...\n",
      "6  table               Team               Team        29  CREATE TABLE \"Team\" (\\n\\t`id`\\tINTEGER PRIMARY...\n",
      "7  table    Team_Attributes    Team_Attributes         2  CREATE TABLE `Team_Attributes` (\\n\\t`id`\\tINTE...\n"
     ]
    }
   ],
   "source": [
    "### Setting Up DB Connection ###\n",
    "db = 'database.sqlite'\n",
    "conn = sqlite3.connect(db)\n",
    "\n",
    "### Extracting All Available Tables From DB ###\n",
    "db_tables = pd.read_sql(\"\"\"SELECT * \n",
    "                            FROM sqlite_master\n",
    "                            WHERE type='table';\"\"\", conn)\n",
    "print(db_tables)"
   ]
  },
  {
   "cell_type": "code",
   "execution_count": 4,
   "metadata": {},
   "outputs": [
    {
     "name": "stdout",
     "output_type": "stream",
     "text": [
      "        Country                    League\n",
      "0       Belgium    Belgium Jupiler League\n",
      "1       England    England Premier League\n",
      "2        France            France Ligue 1\n",
      "3       Germany     Germany 1. Bundesliga\n",
      "4         Italy             Italy Serie A\n",
      "5   Netherlands    Netherlands Eredivisie\n",
      "6        Poland        Poland Ekstraklasa\n",
      "7      Portugal  Portugal Liga ZON Sagres\n",
      "8      Scotland   Scotland Premier League\n",
      "9         Spain           Spain LIGA BBVA\n",
      "10  Switzerland  Switzerland Super League\n"
     ]
    }
   ],
   "source": [
    "# Leagues in each country # \n",
    "league_country = pd.read_sql(\"\"\"SELECT c.name AS Country, l.name AS League\n",
    "                            FROM League AS l\n",
    "                            INNER JOIN Country AS c\n",
    "                            ON l.country_id = c.id\"\"\", conn)\n",
    "print(league_country)"
   ]
  },
  {
   "cell_type": "markdown",
   "metadata": {},
   "source": [
    "# From Here, We'll Focus on the Top 4 Leagues in the World (England, Germany, Italy, Spain)"
   ]
  },
  {
   "cell_type": "code",
   "execution_count": 15,
   "metadata": {},
   "outputs": [
    {
     "name": "stdout",
     "output_type": "stream",
     "text": [
      "   Country                  League  Avg_Games_Season\n",
      "0  England  England Premier League               380\n",
      "1    Spain         Spain LIGA BBVA               380\n",
      "2    Italy           Italy Serie A               377\n",
      "3  Germany   Germany 1. Bundesliga               306\n"
     ]
    }
   ],
   "source": [
    "# Average Number of Matches Played in Each League per Season (08/09 - 15/16)# \n",
    "avg_games = pd.read_sql(\"\"\"SELECT c.name AS Country, l.name AS League, (COUNT(c.name) / COUNT(DISTINCT m.season)) AS Avg_Games_Season\n",
    "                                FROM Match as m\n",
    "                                INNER JOIN Country as c\n",
    "                                ON m.country_id = c.id\n",
    "                                INNER JOIN League as l\n",
    "                                ON m.league_id = l.id\n",
    "                                WHERE c.name IN ('England', 'Germany', 'Italy', 'Spain')\n",
    "                                GROUP BY c.name\n",
    "                                ORDER BY (COUNT(c.name) / COUNT(DISTINCT m.season)) DESC\"\"\", conn)\n",
    "print(avg_games)"
   ]
  },
  {
   "cell_type": "code",
   "execution_count": 6,
   "metadata": {},
   "outputs": [
    {
     "name": "stdout",
     "output_type": "stream",
     "text": [
      "Country\n",
      "England    20\n",
      "Germany    18\n",
      "Italy      20\n",
      "Spain      20\n",
      "Name: num_teams, dtype: int64\n"
     ]
    }
   ],
   "source": [
    "### Number of Teams Per League Per Season ###\n",
    "team_count = pd.read_sql(\"\"\"SELECT m.season, c.name AS Country, l.name AS League, COUNT (DISTINCT t.team_long_name) AS num_teams\n",
    "                                FROM Match as m\n",
    "                                INNER JOIN Country as c\n",
    "                                ON m.country_id = c.id\n",
    "                                INNER JOIN League as l\n",
    "                                ON m.league_id = l.id\n",
    "                                INNER JOIN Team as t\n",
    "                                ON m.home_team_api_id = t.team_api_id\n",
    "                                WHERE c.name IN ('England', 'Spain', 'Italy', 'Germany')\n",
    "                                GROUP BY c.name, m.season\n",
    "                                \"\"\", conn)\n",
    "print(team_count.groupby('Country')['num_teams'].mean())"
   ]
  },
  {
   "cell_type": "markdown",
   "metadata": {},
   "source": [
    "# Goal Scoring in Each League - For the Fans Who Love Goal Scoring "
   ]
  },
  {
   "cell_type": "code",
   "execution_count": 13,
   "metadata": {},
   "outputs": [
    {
     "name": "stdout",
     "output_type": "stream",
     "text": [
      "   Country                  League  home_goals  away_goals  total_goals  goal_diff\n",
      "0  Germany   Germany 1. Bundesliga    1.626634    1.274918     2.901552   0.351716\n",
      "1    Spain         Spain LIGA BBVA    1.631250    1.135855     2.767105   0.495395\n",
      "2  England  England Premier League    1.550987    1.159539     2.710526   0.391447\n",
      "3    Italy           Italy Serie A    1.500829    1.116009     2.616838   0.384819\n"
     ]
    }
   ],
   "source": [
    "### Average League Statistics ###\n",
    "match_stats = pd.read_sql(\"\"\"SELECT c.name AS Country, l.name as League, AVG(m.home_team_goal) AS home_goals, AVG(m.away_team_goal) AS away_goals, AVG(m.home_team_goal + m.away_team_goal) AS total_goals, \n",
    "                                ABS(AVG(m.home_team_goal - m.away_team_goal)) AS goal_diff\n",
    "                                FROM Match as m\n",
    "                                INNER JOIN Country as c\n",
    "                                ON m.country_id = c.id\n",
    "                                INNER JOIN League as l\n",
    "                                ON m.league_id = l.id\n",
    "                                WHERE c.name IN ('England', 'Germany', 'Italy', 'Spain')\n",
    "                                GROUP BY c.name, l.name\n",
    "                                ORDER BY AVG(m.home_team_goal + m.away_team_goal) DESC\"\"\", conn)\n",
    "print(match_stats)"
   ]
  },
  {
   "cell_type": "markdown",
   "metadata": {},
   "source": [
    "**The German Bundesliga averaged the most goals per game over the seasons. The games were also the closest with the smallest difference in the average amount of goals scored by the home and away team.**\n",
    "\n",
    "**Home field advantage was most prevalent in the Spanish league.**"
   ]
  },
  {
   "cell_type": "code",
   "execution_count": 14,
   "metadata": {},
   "outputs": [
    {
     "name": "stdout",
     "output_type": "stream",
     "text": [
      "      season  goals_scored  goals_per_game\n",
      "0  2013/2014          4099        2.834716\n",
      "1  2012/2013          4055        2.804288\n",
      "2  2010/2011          3954        2.734440\n",
      "3  2009/2010          3942        2.726141\n",
      "4  2008/2009          3925        2.714385\n",
      "5  2011/2012          3916        2.750000\n",
      "6  2015/2016          3914        2.706777\n",
      "7  2014/2015          3845        2.660900\n"
     ]
    }
   ],
   "source": [
    "### Which Season was the most exciting overall for the English, German, Spanish, and Italian Leagues? ###\n",
    "\n",
    "season_stats = pd.read_sql(\"\"\"SELECT m.season, SUM(m.home_team_goal + m.away_team_goal) AS goals_scored, AVG(m.home_team_goal + m.away_team_goal) AS goals_per_game\n",
    "                                FROM Match as m\n",
    "                                INNER JOIN Country as c \n",
    "                                ON m.country_id = c.id\n",
    "                                WHERE c.name IN ('England', 'Germany', 'Italy', 'Spain')\n",
    "                                GROUP BY m.season\n",
    "                                ORDER BY SUM(m.home_team_goal + m.away_team_goal) DESC\"\"\", conn)\n",
    "print(season_stats)"
   ]
  },
  {
   "cell_type": "markdown",
   "metadata": {},
   "source": [
    "**The 2013/2014 season was the most exciting (in terms of goal scoring) overall for the English, German, Italian, and Spanish leagues**"
   ]
  },
  {
   "cell_type": "markdown",
   "metadata": {},
   "source": [
    "# Which Teams Were the Most Dominate During this Period of Time in Each League? "
   ]
  },
  {
   "cell_type": "code",
   "execution_count": 9,
   "metadata": {},
   "outputs": [
    {
     "name": "stdout",
     "output_type": "stream",
     "text": [
      "      season                    name  home_team_api_id  away_team_api_id  home_team_goal  away_team_goal\n",
      "0  2008/2009  England Premier League             10260             10261               1               1\n",
      "1  2008/2009  England Premier League              9825              8659               1               0\n",
      "2  2008/2009  England Premier League              8472              8650               0               1\n",
      "3  2008/2009  England Premier League              8654              8528               2               1\n",
      "4  2008/2009  England Premier League             10252              8456               4               2\n",
      "\n",
      "Adding points awarded to each team after game \n",
      "\n",
      "   home_team_goal  away_team_goal  home_points  away_points\n",
      "0               1               1            1            1\n",
      "1               1               0            3            0\n",
      "2               0               1            0            3\n",
      "3               2               1            3            0\n",
      "4               4               2            3            0\n"
     ]
    }
   ],
   "source": [
    "### Obtaining Matches From Each Season in England, Germany, Italy, and Spain ###\n",
    "matches = pd.read_sql(\"\"\"SELECT m.season, l.name, m.home_team_api_id, m.away_team_api_id, m.home_team_goal, m.away_team_goal\n",
    "                            FROM Match as m\n",
    "                            INNER JOIN League as l\n",
    "                            ON m.league_id = l.id\n",
    "                            WHERE l.name IN ('England Premier League', 'Germany 1. Bundesliga', 'Italy Serie A', 'Spain LIGA BBVA')\"\"\", conn)\n",
    "print(matches.head(5))\n",
    "\n",
    "# add win/loss/tie points for both home and away #\n",
    "matches['home_points'] = ''\n",
    "matches['away_points'] = ''\n",
    "for idx, row in matches.iterrows():\n",
    "    if row['home_team_goal'] > row['away_team_goal']:\n",
    "        matches.loc[idx, 'home_points'] = 3\n",
    "        matches.loc[idx, 'away_points'] = 0\n",
    "    elif row['home_team_goal'] < row['away_team_goal']:\n",
    "        matches.loc[idx, 'home_points'] = 0\n",
    "        matches.loc[idx, 'away_points'] = 3\n",
    "    else:\n",
    "        matches.loc[idx, 'home_points'] = 1\n",
    "        matches.loc[idx, 'away_points'] = 1\n",
    "\n",
    "print('\\nAdding points awarded to each team after game', '\\n')\n",
    "print(matches[['home_team_goal', 'away_team_goal', 'home_points', 'away_points']].head(5))"
   ]
  },
  {
   "cell_type": "code",
   "execution_count": 10,
   "metadata": {},
   "outputs": [
    {
     "name": "stdout",
     "output_type": "stream",
     "text": [
      "      season                  league          home_team             away_team  home_team_goal  away_team_goal  home_points  away_points\n",
      "0  2008/2009  England Premier League  Manchester United      Newcastle United               1               1            1            1\n",
      "1  2008/2009  England Premier League            Arsenal  West Bromwich Albion               1               0            3            0\n",
      "2  2008/2009  England Premier League         Sunderland             Liverpool               0               1            0            3\n"
     ]
    }
   ],
   "source": [
    "### Assigning Team Names based on api_id ###\n",
    "\n",
    "teams = pd.read_sql(\"\"\"SELECT team_api_id, team_long_name\n",
    "                        FROM Team\"\"\", conn)\n",
    "\n",
    "for idx, row in matches.iterrows():\n",
    "    for idx2, row2 in teams.iterrows():\n",
    "        if row['home_team_api_id'] == row2['team_api_id']:\n",
    "            matches.loc[idx, 'home_team_api_id'] = row2['team_long_name']\n",
    "        elif row['away_team_api_id'] == row2['team_api_id']:\n",
    "            matches.loc[idx, 'away_team_api_id'] = row2['team_long_name']\n",
    "\n",
    "matches.columns = ['season', 'league', 'home_team', 'away_team', 'home_team_goal', 'away_team_goal', 'home_points', 'away_points']\n",
    "print(matches.head(3))"
   ]
  },
  {
   "cell_type": "code",
   "execution_count": 11,
   "metadata": {},
   "outputs": [
    {
     "name": "stdout",
     "output_type": "stream",
     "text": [
      "        season                  league              team  home_points  away_points  total_points\n",
      "0    2008/2009  England Premier League           Arsenal           38           34            72\n",
      "1    2008/2009  England Premier League       Aston Villa           30           32            62\n",
      "2    2008/2009  England Premier League  Blackburn Rovers           25           16            41\n",
      "3    2008/2009  England Premier League  Bolton Wanderers           26           15            41\n",
      "4    2008/2009  England Premier League           Chelsea           39           44            83\n",
      "..         ...                     ...               ...          ...          ...           ...\n",
      "619  2015/2016         Spain LIGA BBVA          SD Eibar           29           14            43\n",
      "620  2015/2016         Spain LIGA BBVA        Sevilla FC           43            9            52\n",
      "621  2015/2016         Spain LIGA BBVA     UD Las Palmas           29           15            44\n",
      "622  2015/2016         Spain LIGA BBVA       Valencia CF           25           19            44\n",
      "623  2015/2016         Spain LIGA BBVA     Villarreal CF           40           24            64\n",
      "\n",
      "[624 rows x 6 columns]\n"
     ]
    }
   ],
   "source": [
    "# Home Points #\n",
    "home = matches.groupby(['season', 'league', 'home_team'])['home_points'].sum()\n",
    "home = home.reset_index()\n",
    "home.columns = ['season', 'league', 'team', 'home_points']\n",
    "\n",
    "# Away Point #\n",
    "away = matches.groupby(['season', 'league', 'away_team'])['away_points'].sum()\n",
    "away = away.reset_index()\n",
    "away.columns = ['season', 'league', 'team', 'away_points']\n",
    "\n",
    "### Total Points ###\n",
    "total = pd.merge(home, away, on=['season', 'league', 'team'], how='inner')\n",
    "total['total_points'] = total['home_points'] + total['away_points']\n",
    "print(total)"
   ]
  },
  {
   "cell_type": "code",
   "execution_count": 12,
   "metadata": {},
   "outputs": [
    {
     "name": "stdout",
     "output_type": "stream",
     "text": [
      "\n",
      "League:  England Premier League\n",
      "Manchester United:  3 league titles\n",
      "\n",
      "League:  Germany 1. Bundesliga\n",
      "FC Bayern Munich:  5 league titles\n",
      "\n",
      "League:  Italy Serie A\n",
      "Juventus:  5 league titles\n",
      "\n",
      "League:  Spain LIGA BBVA\n",
      "FC Barcelona:  6 league titles\n"
     ]
    }
   ],
   "source": [
    "### Which Teams Won the Most League Titles?? ###\n",
    "for league in list(total.league.unique()): \n",
    "    print('\\nLeague: ', league)\n",
    "    champions = []\n",
    "    for season in list(total.season.unique()):\n",
    "        result = total.loc[(total['league'] == league) & (total['season'] == season)]\n",
    "        winner = result.loc[result['total_points'] == max(result['total_points'])]['team']\n",
    "        champions.append(winner.unique()[0])\n",
    "        most_frequent = max(set(champions), key=champions.count)\n",
    "    print(most_frequent + ': ', str(champions.count(most_frequent)) + ' league titles')"
   ]
  },
  {
   "cell_type": "markdown",
   "metadata": {},
   "source": [
    "# For Analytics For Each Respective League Check Out the Other Notebooks in This Repository!!"
   ]
  }
 ],
 "metadata": {
  "kernelspec": {
   "display_name": "Python 3",
   "language": "python",
   "name": "python3"
  },
  "language_info": {
   "codemirror_mode": {
    "name": "ipython",
    "version": 3
   },
   "file_extension": ".py",
   "mimetype": "text/x-python",
   "name": "python",
   "nbconvert_exporter": "python",
   "pygments_lexer": "ipython3",
   "version": "3.7.4"
  }
 },
 "nbformat": 4,
 "nbformat_minor": 2
}
