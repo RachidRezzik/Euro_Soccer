{
 "cells": [
  {
   "cell_type": "code",
   "execution_count": 94,
   "metadata": {},
   "outputs": [],
   "source": [
    "def warn(*args, **kwargs):\n",
    "    pass\n",
    "import warnings\n",
    "warnings.warn = warn\n",
    "\n",
    "import pandas as pd\n",
    "import numpy as np\n",
    "import matplotlib.pyplot as plt\n",
    "import sqlite3\n",
    "import seaborn as sns\n",
    "\n",
    "plt.rcParams['figure.figsize'] = 8, 7\n",
    "plt.rcParams[\"font.weight\"] = \"bold\"\n",
    "plt.rcParams[\"font.family\"] = \"normal\"\n",
    "plt.rcParams[\"font.size\"] = 25\n",
    "plt.rcParams[\"axes.labelweight\"] = \"bold\"\n",
    "plt.rcParams['xtick.labelsize']=18\n",
    "plt.rcParams['ytick.labelsize']=18\n",
    "plt.rcParams['axes.labelsize']=18\n",
    "plt.rcParams['legend.fontsize']: 16\n",
    "    \n",
    "sns.set()\n",
    "\n",
    "pd.set_option('display.max_rows', 500)\n",
    "pd.set_option('display.max_columns', 500)\n",
    "pd.set_option('display.width', 1000)"
   ]
  },
  {
   "cell_type": "code",
   "execution_count": 95,
   "metadata": {},
   "outputs": [
    {
     "name": "stdout",
     "output_type": "stream",
     "text": [
      "    type               name           tbl_name  rootpage                                                sql\n",
      "0  table    sqlite_sequence    sqlite_sequence         4             CREATE TABLE sqlite_sequence(name,seq)\n",
      "1  table  Player_Attributes  Player_Attributes        11  CREATE TABLE \"Player_Attributes\" (\\n\\t`id`\\tIN...\n",
      "2  table             Player             Player        14  CREATE TABLE `Player` (\\n\\t`id`\\tINTEGER PRIMA...\n",
      "3  table              Match              Match        18  CREATE TABLE `Match` (\\n\\t`id`\\tINTEGER PRIMAR...\n",
      "4  table             League             League        24  CREATE TABLE `League` (\\n\\t`id`\\tINTEGER PRIMA...\n",
      "5  table            Country            Country        26  CREATE TABLE `Country` (\\n\\t`id`\\tINTEGER PRIM...\n",
      "6  table               Team               Team        29  CREATE TABLE \"Team\" (\\n\\t`id`\\tINTEGER PRIMARY...\n",
      "7  table    Team_Attributes    Team_Attributes         2  CREATE TABLE `Team_Attributes` (\\n\\t`id`\\tINTE...\n"
     ]
    }
   ],
   "source": [
    "### Setting Up DB Connection ###\n",
    "db = 'database.sqlite'\n",
    "conn = sqlite3.connect(db)\n",
    "\n",
    "### Extracting All Available Tables From DB ###\n",
    "db_tables = pd.read_sql(\"\"\"SELECT * \n",
    "                            FROM sqlite_master\n",
    "                            WHERE type='table';\"\"\", conn)\n",
    "print(db_tables)"
   ]
  },
  {
   "cell_type": "markdown",
   "metadata": {},
   "source": [
    " **^^ Here we see we have 7 tables in total we'll be interested in exploring further (Player_Attributes, Player, Match, League, Country, Team, Team_Attributes)**"
   ]
  },
  {
   "cell_type": "code",
   "execution_count": 96,
   "metadata": {},
   "outputs": [
    {
     "name": "stdout",
     "output_type": "stream",
     "text": [
      "\n",
      " Player_Attributes: \n",
      "Index(['id', 'player_fifa_api_id', 'player_api_id', 'date', 'overall_rating', 'potential', 'preferred_foot', 'attacking_work_rate', 'defensive_work_rate', 'crossing', 'finishing', 'heading_accuracy', 'short_passing', 'volleys', 'dribbling', 'curve', 'free_kick_accuracy', 'long_passing', 'ball_control', 'acceleration', 'sprint_speed', 'agility', 'reactions', 'balance', 'shot_power', 'jumping', 'stamina', 'strength', 'long_shots', 'aggression', 'interceptions', 'positioning', 'vision', 'penalties', 'marking', 'standing_tackle', 'sliding_tackle', 'gk_diving', 'gk_handling', 'gk_kicking', 'gk_positioning', 'gk_reflexes'], dtype='object')\n",
      "\n",
      " Player: \n",
      "Index(['id', 'player_api_id', 'player_name', 'player_fifa_api_id', 'birthday', 'height', 'weight'], dtype='object')\n",
      "\n",
      " Match: \n",
      "Index(['id', 'country_id', 'league_id', 'season', 'stage', 'date', 'match_api_id', 'home_team_api_id', 'away_team_api_id', 'home_team_goal',\n",
      "       ...\n",
      "       'SJA', 'VCH', 'VCD', 'VCA', 'GBH', 'GBD', 'GBA', 'BSH', 'BSD', 'BSA'], dtype='object', length=115)\n",
      "\n",
      " League: \n",
      "Index(['id', 'country_id', 'name'], dtype='object')\n",
      "\n",
      " Country: \n",
      "Index(['id', 'name'], dtype='object')\n",
      "\n",
      " Team: \n",
      "Index(['id', 'team_api_id', 'team_fifa_api_id', 'team_long_name', 'team_short_name'], dtype='object')\n",
      "\n",
      " Team_Attributes: \n",
      "Index(['id', 'team_fifa_api_id', 'team_api_id', 'date', 'buildUpPlaySpeed', 'buildUpPlaySpeedClass', 'buildUpPlayDribbling', 'buildUpPlayDribblingClass', 'buildUpPlayPassing', 'buildUpPlayPassingClass', 'buildUpPlayPositioningClass', 'chanceCreationPassing', 'chanceCreationPassingClass', 'chanceCreationCrossing', 'chanceCreationCrossingClass', 'chanceCreationShooting', 'chanceCreationShootingClass', 'chanceCreationPositioningClass', 'defencePressure', 'defencePressureClass', 'defenceAggression', 'defenceAggressionClass', 'defenceTeamWidth', 'defenceTeamWidthClass', 'defenceDefenderLineClass'], dtype='object')\n"
     ]
    }
   ],
   "source": [
    "### Exploring Features in Each Table ###\n",
    "for table in db_tables.tbl_name:\n",
    "    if table != 'sqlite_sequence':\n",
    "        print('\\n', table + ': ')\n",
    "        new = pd.read_sql(\"\"\"SELECT * \n",
    "                            FROM \"\"\" + table + \"\"\" LIMIT 2\"\"\", conn)\n",
    "        print(new.columns)\n",
    "                        "
   ]
  },
  {
   "cell_type": "markdown",
   "metadata": {},
   "source": [
    "# Countries/Leagues/Teams"
   ]
  },
  {
   "cell_type": "code",
   "execution_count": 97,
   "metadata": {},
   "outputs": [
    {
     "name": "stdout",
     "output_type": "stream",
     "text": [
      "        Country\n",
      "0       Belgium\n",
      "1       England\n",
      "2        France\n",
      "3       Germany\n",
      "4         Italy\n",
      "5   Netherlands\n",
      "6        Poland\n",
      "7      Portugal\n",
      "8      Scotland\n",
      "9         Spain\n",
      "10  Switzerland\n"
     ]
    }
   ],
   "source": [
    "# Countries in DB #\n",
    "countries = pd.read_sql(\"\"\"SELECT DISTINCT name AS Country\n",
    "                            FROM Country\"\"\", conn)\n",
    "print(countries)"
   ]
  },
  {
   "cell_type": "code",
   "execution_count": 98,
   "metadata": {},
   "outputs": [
    {
     "name": "stdout",
     "output_type": "stream",
     "text": [
      "        Country                    League\n",
      "0       Belgium    Belgium Jupiler League\n",
      "1       England    England Premier League\n",
      "2        France            France Ligue 1\n",
      "3       Germany     Germany 1. Bundesliga\n",
      "4         Italy             Italy Serie A\n",
      "5   Netherlands    Netherlands Eredivisie\n",
      "6        Poland        Poland Ekstraklasa\n",
      "7      Portugal  Portugal Liga ZON Sagres\n",
      "8      Scotland   Scotland Premier League\n",
      "9         Spain           Spain LIGA BBVA\n",
      "10  Switzerland  Switzerland Super League\n"
     ]
    }
   ],
   "source": [
    "# Leagues in each country # \n",
    "league_country = pd.read_sql(\"\"\"SELECT c.name AS Country, l.name AS League\n",
    "                            FROM League AS l\n",
    "                            INNER JOIN Country AS c\n",
    "                            ON l.country_id = c.id\"\"\", conn)\n",
    "print(league_country)"
   ]
  },
  {
   "cell_type": "code",
   "execution_count": 99,
   "metadata": {},
   "outputs": [
    {
     "name": "stdout",
     "output_type": "stream",
     "text": [
      "        Country                    League  Avg_Games_Season\n",
      "0         Spain           Spain LIGA BBVA               380\n",
      "1        France            France Ligue 1               380\n",
      "2       England    England Premier League               380\n",
      "3         Italy             Italy Serie A               377\n",
      "4   Netherlands    Netherlands Eredivisie               306\n",
      "5       Germany     Germany 1. Bundesliga               306\n",
      "6      Portugal  Portugal Liga ZON Sagres               256\n",
      "7        Poland        Poland Ekstraklasa               240\n",
      "8      Scotland   Scotland Premier League               228\n",
      "9       Belgium    Belgium Jupiler League               216\n",
      "10  Switzerland  Switzerland Super League               177\n"
     ]
    }
   ],
   "source": [
    "# Average Number of Matches Played in Each League per Season (08/09 - 15/16)# \n",
    "avg_games = pd.read_sql(\"\"\"SELECT c.name AS Country, l.name AS League, (COUNT(c.name) / COUNT(DISTINCT m.season)) AS Avg_Games_Season\n",
    "                                FROM Match as m\n",
    "                                INNER JOIN Country as c\n",
    "                                ON m.country_id = c.id\n",
    "                                INNER JOIN League as l\n",
    "                                ON m.league_id = l.id\n",
    "                                GROUP BY c.name\n",
    "                                ORDER BY (COUNT(c.name) / COUNT(DISTINCT m.season)) DESC\"\"\", conn)\n",
    "print(avg_games)"
   ]
  },
  {
   "cell_type": "code",
   "execution_count": 100,
   "metadata": {},
   "outputs": [
    {
     "name": "stdout",
     "output_type": "stream",
     "text": [
      "        Country                    League  Num_Teams\n",
      "0        France            France Ligue 1         35\n",
      "1       England    England Premier League         34\n",
      "2         Spain           Spain LIGA BBVA         33\n",
      "3         Italy             Italy Serie A         32\n",
      "4       Germany     Germany 1. Bundesliga         30\n",
      "5      Portugal  Portugal Liga ZON Sagres         29\n",
      "6   Netherlands    Netherlands Eredivisie         25\n",
      "7       Belgium    Belgium Jupiler League         25\n",
      "8        Poland        Poland Ekstraklasa         24\n",
      "9      Scotland   Scotland Premier League         17\n",
      "10  Switzerland  Switzerland Super League         15\n"
     ]
    }
   ],
   "source": [
    "### Number of Teams Per League ###\n",
    "team_count = pd.read_sql(\"\"\"SELECT c.name AS Country, l.name AS League, COUNT(DISTINCT m.home_team_api_id) AS Num_Teams\n",
    "                                FROM Match as m\n",
    "                                INNER JOIN Country as c\n",
    "                                ON m.country_id = c.id\n",
    "                                INNER JOIN League as l\n",
    "                                ON m.league_id = l.id\n",
    "                                GROUP BY c.name \n",
    "                                ORDER BY COUNT(DISTINCT m.home_team_api_id) DESC\"\"\", conn)\n",
    "print(team_count)"
   ]
  },
  {
   "cell_type": "code",
   "execution_count": 101,
   "metadata": {},
   "outputs": [
    {
     "name": "stdout",
     "output_type": "stream",
     "text": [
      "      season                    name  home_team_api_id  away_team_api_id  home_team_goal  away_team_goal\n",
      "0  2008/2009  Belgium Jupiler League              9987              9993               1               1\n",
      "1  2008/2009  Belgium Jupiler League             10000              9994               0               0\n",
      "2  2008/2009  Belgium Jupiler League              9984              8635               0               3\n",
      "3  2008/2009  Belgium Jupiler League              9991              9998               5               0\n",
      "4  2008/2009  Belgium Jupiler League              7947              9985               1               3\n",
      "\n",
      "Adding points awarded to each team after game \n",
      "\n",
      "   home_team_goal  away_team_goal  home_points  away_points\n",
      "0               1               1            1            1\n",
      "1               0               0            1            1\n",
      "2               0               3            0            3\n",
      "3               5               0            3            0\n",
      "4               1               3            0            3\n"
     ]
    }
   ],
   "source": [
    "### Champions of Each Season for Each League ###\n",
    "matches = pd.read_sql(\"\"\"SELECT m.season, l.name, m.home_team_api_id, m.away_team_api_id, m.home_team_goal, m.away_team_goal\n",
    "                            FROM Match as m\n",
    "                            INNER JOIN League as l\n",
    "                            ON m.league_id = l.id\"\"\", conn)\n",
    "print(matches.head(5))\n",
    "\n",
    "# add win/loss/tie points for both home and away #\n",
    "matches['home_points'] = ''\n",
    "matches['away_points'] = ''\n",
    "for idx, row in matches.iterrows():\n",
    "    if row['home_team_goal'] > row['away_team_goal']:\n",
    "        matches.loc[idx, 'home_points'] = 3\n",
    "        matches.loc[idx, 'away_points'] = 0\n",
    "    elif row['home_team_goal'] < row['away_team_goal']:\n",
    "        matches.loc[idx, 'home_points'] = 0\n",
    "        matches.loc[idx, 'away_points'] = 3\n",
    "    else:\n",
    "        matches.loc[idx, 'home_points'] = 1\n",
    "        matches.loc[idx, 'away_points'] = 1\n",
    "\n",
    "print('\\nAdding points awarded to each team after game', '\\n')\n",
    "print(matches[['home_team_goal', 'away_team_goal', 'home_points', 'away_points']].head(5))"
   ]
  },
  {
   "cell_type": "code",
   "execution_count": 102,
   "metadata": {},
   "outputs": [
    {
     "name": "stdout",
     "output_type": "stream",
     "text": [
      "      season                  league          home_team         away_team  home_team_goal  away_team_goal  home_points  away_points\n",
      "0  2008/2009  Belgium Jupiler League           KRC Genk      Beerschot AC               1               1            1            1\n",
      "1  2008/2009  Belgium Jupiler League   SV Zulte-Waregem  Sporting Lokeren               0               0            1            1\n",
      "2  2008/2009  Belgium Jupiler League  KSV Cercle Brugge    RSC Anderlecht               0               3            0            3\n"
     ]
    }
   ],
   "source": [
    "### Assigning Team Names based on api_id ###\n",
    "\n",
    "teams = pd.read_sql(\"\"\"SELECT team_api_id, team_long_name\n",
    "                        FROM Team\"\"\", conn)\n",
    "\n",
    "for idx, row in matches.iterrows():\n",
    "    for idx2, row2 in teams.iterrows():\n",
    "        if row['home_team_api_id'] == row2['team_api_id']:\n",
    "            matches.loc[idx, 'home_team_api_id'] = row2['team_long_name']\n",
    "        elif row['away_team_api_id'] == row2['team_api_id']:\n",
    "            matches.loc[idx, 'away_team_api_id'] = row2['team_long_name']\n",
    "\n",
    "matches.columns = ['season', 'league', 'home_team', 'away_team', 'home_team_goal', 'away_team_goal', 'home_points', 'away_points']\n",
    "print(matches.head(3))"
   ]
  },
  {
   "cell_type": "code",
   "execution_count": 103,
   "metadata": {},
   "outputs": [
    {
     "name": "stdout",
     "output_type": "stream",
     "text": [
      "Home points for each team\n",
      "season     league                    home_team              \n",
      "2008/2009  Belgium Jupiler League    Beerschot AC               30\n",
      "                                     Club Brugge KV             35\n",
      "                                     FCV Dender EH              19\n",
      "                                     KAA Gent                   30\n",
      "                                     KRC Genk                   26\n",
      "                                                                ..\n",
      "2015/2016  Switzerland Super League  FC Thun                    23\n",
      "                                     FC Vaduz                   20\n",
      "                                     FC Zürich                  19\n",
      "                                     Grasshopper Club Zürich    30\n",
      "                                     Lugano                     22\n",
      "Name: home_points, Length: 1478, dtype: int64\n"
     ]
    }
   ],
   "source": [
    "home = matches.groupby(['season', 'league', 'home_team'])['home_points'].sum()\n",
    "\n",
    "print('Home points for each team')\n",
    "print(home)"
   ]
  },
  {
   "cell_type": "code",
   "execution_count": 104,
   "metadata": {},
   "outputs": [
    {
     "name": "stdout",
     "output_type": "stream",
     "text": [
      "Away points for each team\n",
      "season     league                    away_team              \n",
      "2008/2009  Belgium Jupiler League    Beerschot AC               12\n",
      "                                     Club Brugge KV             24\n",
      "                                     FCV Dender EH              16\n",
      "                                     KAA Gent                   29\n",
      "                                     KRC Genk                   24\n",
      "                                                                ..\n",
      "2015/2016  Switzerland Super League  FC Thun                    18\n",
      "                                     FC Vaduz                   16\n",
      "                                     FC Zürich                  15\n",
      "                                     Grasshopper Club Zürich    23\n",
      "                                     Lugano                     13\n",
      "Name: away_points, Length: 1478, dtype: int64\n"
     ]
    }
   ],
   "source": [
    "away = matches.groupby(['season', 'league', 'away_team'])['away_points'].sum()\n",
    "\n",
    "print('Away points for each team')\n",
    "print(away)"
   ]
  }
 ],
 "metadata": {
  "kernelspec": {
   "display_name": "Python 3",
   "language": "python",
   "name": "python3"
  },
  "language_info": {
   "codemirror_mode": {
    "name": "ipython",
    "version": 3
   },
   "file_extension": ".py",
   "mimetype": "text/x-python",
   "name": "python",
   "nbconvert_exporter": "python",
   "pygments_lexer": "ipython3",
   "version": "3.7.4"
  }
 },
 "nbformat": 4,
 "nbformat_minor": 2
}
