{
 "cells": [
  {
   "cell_type": "code",
   "execution_count": 1,
   "metadata": {},
   "outputs": [],
   "source": [
    "def warn(*args, **kwargs):\n",
    "    pass\n",
    "import warnings\n",
    "warnings.warn = warn\n",
    "\n",
    "import pandas as pd\n",
    "import numpy as np\n",
    "import matplotlib.pyplot as plt\n",
    "import sqlite3\n",
    "import seaborn as sns\n",
    "\n",
    "plt.rcParams['figure.figsize'] = 8, 7\n",
    "plt.rcParams[\"font.weight\"] = \"bold\"\n",
    "plt.rcParams[\"font.family\"] = \"normal\"\n",
    "plt.rcParams[\"font.size\"] = 25\n",
    "plt.rcParams[\"axes.labelweight\"] = \"bold\"\n",
    "plt.rcParams['xtick.labelsize']=18\n",
    "plt.rcParams['ytick.labelsize']=18\n",
    "plt.rcParams['axes.labelsize']=18\n",
    "plt.rcParams['legend.fontsize']: 16\n",
    "    \n",
    "sns.set()\n",
    "\n",
    "pd.set_option('display.max_rows', 500)\n",
    "pd.set_option('display.max_columns', 500)\n",
    "pd.set_option('display.width', 1000)"
   ]
  },
  {
   "cell_type": "code",
   "execution_count": 2,
   "metadata": {},
   "outputs": [
    {
     "name": "stdout",
     "output_type": "stream",
     "text": [
      "    type               name           tbl_name  rootpage                                                sql\n",
      "0  table    sqlite_sequence    sqlite_sequence         4             CREATE TABLE sqlite_sequence(name,seq)\n",
      "1  table  Player_Attributes  Player_Attributes        11  CREATE TABLE \"Player_Attributes\" (\\n\\t`id`\\tIN...\n",
      "2  table             Player             Player        14  CREATE TABLE `Player` (\\n\\t`id`\\tINTEGER PRIMA...\n",
      "3  table              Match              Match        18  CREATE TABLE `Match` (\\n\\t`id`\\tINTEGER PRIMAR...\n",
      "4  table             League             League        24  CREATE TABLE `League` (\\n\\t`id`\\tINTEGER PRIMA...\n",
      "5  table            Country            Country        26  CREATE TABLE `Country` (\\n\\t`id`\\tINTEGER PRIM...\n",
      "6  table               Team               Team        29  CREATE TABLE \"Team\" (\\n\\t`id`\\tINTEGER PRIMARY...\n",
      "7  table    Team_Attributes    Team_Attributes         2  CREATE TABLE `Team_Attributes` (\\n\\t`id`\\tINTE...\n"
     ]
    }
   ],
   "source": [
    "### Setting Up DB Connection ###\n",
    "db = 'database.sqlite'\n",
    "conn = sqlite3.connect(db)\n",
    "\n",
    "### Extracting All Available Tables From DB ###\n",
    "db_tables = pd.read_sql(\"\"\"SELECT * \n",
    "                            FROM sqlite_master\n",
    "                            WHERE type='table';\"\"\", conn)\n",
    "print(db_tables)"
   ]
  },
  {
   "cell_type": "markdown",
   "metadata": {},
   "source": [
    " **^^ Here we see we have 7 tables in total we'll be interested in exploring further (Player_Attributes, Player, Match, League, Country, Team, Team_Attributes)**"
   ]
  },
  {
   "cell_type": "code",
   "execution_count": 3,
   "metadata": {},
   "outputs": [
    {
     "name": "stdout",
     "output_type": "stream",
     "text": [
      "\n",
      " Player_Attributes: \n",
      "Index(['id', 'player_fifa_api_id', 'player_api_id', 'date', 'overall_rating', 'potential', 'preferred_foot', 'attacking_work_rate', 'defensive_work_rate', 'crossing', 'finishing', 'heading_accuracy', 'short_passing', 'volleys', 'dribbling', 'curve', 'free_kick_accuracy', 'long_passing', 'ball_control', 'acceleration', 'sprint_speed', 'agility', 'reactions', 'balance', 'shot_power', 'jumping', 'stamina', 'strength', 'long_shots', 'aggression', 'interceptions', 'positioning', 'vision', 'penalties', 'marking', 'standing_tackle', 'sliding_tackle', 'gk_diving', 'gk_handling', 'gk_kicking', 'gk_positioning', 'gk_reflexes'], dtype='object')\n",
      "\n",
      " Player: \n",
      "Index(['id', 'player_api_id', 'player_name', 'player_fifa_api_id', 'birthday', 'height', 'weight'], dtype='object')\n",
      "\n",
      " Match: \n",
      "Index(['id', 'country_id', 'league_id', 'season', 'stage', 'date', 'match_api_id', 'home_team_api_id', 'away_team_api_id', 'home_team_goal',\n",
      "       ...\n",
      "       'SJA', 'VCH', 'VCD', 'VCA', 'GBH', 'GBD', 'GBA', 'BSH', 'BSD', 'BSA'], dtype='object', length=115)\n",
      "\n",
      " League: \n",
      "Index(['id', 'country_id', 'name'], dtype='object')\n",
      "\n",
      " Country: \n",
      "Index(['id', 'name'], dtype='object')\n",
      "\n",
      " Team: \n",
      "Index(['id', 'team_api_id', 'team_fifa_api_id', 'team_long_name', 'team_short_name'], dtype='object')\n",
      "\n",
      " Team_Attributes: \n",
      "Index(['id', 'team_fifa_api_id', 'team_api_id', 'date', 'buildUpPlaySpeed', 'buildUpPlaySpeedClass', 'buildUpPlayDribbling', 'buildUpPlayDribblingClass', 'buildUpPlayPassing', 'buildUpPlayPassingClass', 'buildUpPlayPositioningClass', 'chanceCreationPassing', 'chanceCreationPassingClass', 'chanceCreationCrossing', 'chanceCreationCrossingClass', 'chanceCreationShooting', 'chanceCreationShootingClass', 'chanceCreationPositioningClass', 'defencePressure', 'defencePressureClass', 'defenceAggression', 'defenceAggressionClass', 'defenceTeamWidth', 'defenceTeamWidthClass', 'defenceDefenderLineClass'], dtype='object')\n"
     ]
    }
   ],
   "source": [
    "### Exploring Features in Each Table ###\n",
    "for table in db_tables.tbl_name:\n",
    "    if table != 'sqlite_sequence':\n",
    "        print('\\n', table + ': ')\n",
    "        new = pd.read_sql(\"\"\"SELECT * \n",
    "                            FROM \"\"\" + table + \"\"\" LIMIT 2\"\"\", conn)\n",
    "        print(new.columns)\n",
    "                        "
   ]
  },
  {
   "cell_type": "markdown",
   "metadata": {},
   "source": [
    "# Countries/Leagues/Teams"
   ]
  },
  {
   "cell_type": "code",
   "execution_count": 4,
   "metadata": {},
   "outputs": [
    {
     "name": "stdout",
     "output_type": "stream",
     "text": [
      "        Country\n",
      "0       Belgium\n",
      "1       England\n",
      "2        France\n",
      "3       Germany\n",
      "4         Italy\n",
      "5   Netherlands\n",
      "6        Poland\n",
      "7      Portugal\n",
      "8      Scotland\n",
      "9         Spain\n",
      "10  Switzerland\n"
     ]
    }
   ],
   "source": [
    "# Countries in DB #\n",
    "countries = pd.read_sql(\"\"\"SELECT DISTINCT name AS Country\n",
    "                            FROM Country\"\"\", conn)\n",
    "print(countries)"
   ]
  },
  {
   "cell_type": "code",
   "execution_count": 5,
   "metadata": {},
   "outputs": [
    {
     "name": "stdout",
     "output_type": "stream",
     "text": [
      "        Country                    League\n",
      "0       Belgium    Belgium Jupiler League\n",
      "1       England    England Premier League\n",
      "2        France            France Ligue 1\n",
      "3       Germany     Germany 1. Bundesliga\n",
      "4         Italy             Italy Serie A\n",
      "5   Netherlands    Netherlands Eredivisie\n",
      "6        Poland        Poland Ekstraklasa\n",
      "7      Portugal  Portugal Liga ZON Sagres\n",
      "8      Scotland   Scotland Premier League\n",
      "9         Spain           Spain LIGA BBVA\n",
      "10  Switzerland  Switzerland Super League\n"
     ]
    }
   ],
   "source": [
    "# Leagues in each country # \n",
    "league_country = pd.read_sql(\"\"\"SELECT c.name AS Country, l.name AS League\n",
    "                            FROM League AS l\n",
    "                            INNER JOIN Country AS c\n",
    "                            ON l.country_id = c.id\"\"\", conn)\n",
    "print(league_country)"
   ]
  },
  {
   "cell_type": "code",
   "execution_count": 6,
   "metadata": {},
   "outputs": [
    {
     "name": "stdout",
     "output_type": "stream",
     "text": [
      "        Country                    League  Avg_Games_Season\n",
      "0         Spain           Spain LIGA BBVA               380\n",
      "1        France            France Ligue 1               380\n",
      "2       England    England Premier League               380\n",
      "3         Italy             Italy Serie A               377\n",
      "4   Netherlands    Netherlands Eredivisie               306\n",
      "5       Germany     Germany 1. Bundesliga               306\n",
      "6      Portugal  Portugal Liga ZON Sagres               256\n",
      "7        Poland        Poland Ekstraklasa               240\n",
      "8      Scotland   Scotland Premier League               228\n",
      "9       Belgium    Belgium Jupiler League               216\n",
      "10  Switzerland  Switzerland Super League               177\n"
     ]
    }
   ],
   "source": [
    "# Average Number of Matches Played in Each League per Season (08/09 - 15/16)# \n",
    "avg_games = pd.read_sql(\"\"\"SELECT c.name AS Country, l.name AS League, (COUNT(c.name) / COUNT(DISTINCT m.season)) AS Avg_Games_Season\n",
    "                                FROM Match as m\n",
    "                                INNER JOIN Country as c\n",
    "                                ON m.country_id = c.id\n",
    "                                INNER JOIN League as l\n",
    "                                ON m.league_id = l.id\n",
    "                                GROUP BY c.name\n",
    "                                ORDER BY (COUNT(c.name) / COUNT(DISTINCT m.season)) DESC\"\"\", conn)\n",
    "print(avg_games)"
   ]
  },
  {
   "cell_type": "code",
   "execution_count": 53,
   "metadata": {},
   "outputs": [
    {
     "name": "stdout",
     "output_type": "stream",
     "text": [
      "       season  Country                  League  num_teams\n",
      "0   2008/2009  England  England Premier League         20\n",
      "1   2009/2010  England  England Premier League         20\n",
      "2   2010/2011  England  England Premier League         20\n",
      "3   2011/2012  England  England Premier League         20\n",
      "4   2012/2013  England  England Premier League         20\n",
      "5   2013/2014  England  England Premier League         20\n",
      "6   2014/2015  England  England Premier League         20\n",
      "7   2015/2016  England  England Premier League         20\n",
      "8   2008/2009  Germany   Germany 1. Bundesliga         18\n",
      "9   2009/2010  Germany   Germany 1. Bundesliga         18\n",
      "10  2010/2011  Germany   Germany 1. Bundesliga         18\n",
      "11  2011/2012  Germany   Germany 1. Bundesliga         18\n",
      "12  2012/2013  Germany   Germany 1. Bundesliga         18\n",
      "13  2013/2014  Germany   Germany 1. Bundesliga         18\n",
      "14  2014/2015  Germany   Germany 1. Bundesliga         18\n",
      "15  2015/2016  Germany   Germany 1. Bundesliga         18\n",
      "16  2008/2009    Italy           Italy Serie A         20\n",
      "17  2009/2010    Italy           Italy Serie A         20\n",
      "18  2010/2011    Italy           Italy Serie A         20\n",
      "19  2011/2012    Italy           Italy Serie A         20\n",
      "20  2012/2013    Italy           Italy Serie A         20\n",
      "21  2013/2014    Italy           Italy Serie A         20\n",
      "22  2014/2015    Italy           Italy Serie A         20\n",
      "23  2015/2016    Italy           Italy Serie A         20\n",
      "24  2008/2009    Spain         Spain LIGA BBVA         20\n",
      "25  2009/2010    Spain         Spain LIGA BBVA         20\n",
      "26  2010/2011    Spain         Spain LIGA BBVA         20\n",
      "27  2011/2012    Spain         Spain LIGA BBVA         20\n",
      "28  2012/2013    Spain         Spain LIGA BBVA         20\n",
      "29  2013/2014    Spain         Spain LIGA BBVA         20\n",
      "30  2014/2015    Spain         Spain LIGA BBVA         20\n",
      "31  2015/2016    Spain         Spain LIGA BBVA         20\n"
     ]
    }
   ],
   "source": [
    "### Number of Teams Per League Per Season ###\n",
    "team_count = pd.read_sql(\"\"\"SELECT m.season, c.name AS Country, l.name AS League, COUNT (DISTINCT t.team_long_name) AS num_teams\n",
    "                                FROM Match as m\n",
    "                                INNER JOIN Country as c\n",
    "                                ON m.country_id = c.id\n",
    "                                INNER JOIN League as l\n",
    "                                ON m.league_id = l.id\n",
    "                                INNER JOIN Team as t\n",
    "                                ON m.home_team_api_id = t.team_api_id\n",
    "                                WHERE c.name IN ('England', 'Spain', 'Italy', 'Germany')\n",
    "                                GROUP BY c.name, m.season\n",
    "                                \"\"\", conn)\n",
    "print(team_count)"
   ]
  },
  {
   "cell_type": "code",
   "execution_count": 75,
   "metadata": {},
   "outputs": [
    {
     "name": "stdout",
     "output_type": "stream",
     "text": [
      "   Country                  League  home_goals  away_goals  total_goals  goal_diff\n",
      "0  Germany   Germany 1. Bundesliga    1.626634    1.274918     2.901552   0.351716\n",
      "1    Spain         Spain LIGA BBVA    1.631250    1.135855     2.767105   0.495395\n",
      "2  England  England Premier League    1.550987    1.159539     2.710526   0.391447\n",
      "3    Italy           Italy Serie A    1.500829    1.116009     2.616838   0.384819\n",
      "\n",
      "The German Bundesliga averaged the most goals per game over the seasons. The games were also the closest with the smallest difference in the average amount of goals scored by the home and away team. \n",
      "\n",
      "Home field advantage was most prevalent in the Spanish league.\n"
     ]
    }
   ],
   "source": [
    "### Average League Statistics ###\n",
    "match_stats = pd.read_sql(\"\"\"SELECT c.name AS Country, l.name as League, AVG(m.home_team_goal) AS home_goals, AVG(m.away_team_goal) AS away_goals, AVG(m.home_team_goal + m.away_team_goal) AS total_goals, \n",
    "                                ABS(AVG(m.home_team_goal - m.away_team_goal)) AS goal_diff\n",
    "                                FROM Match as m\n",
    "                                INNER JOIN Country as c\n",
    "                                ON m.country_id = c.id\n",
    "                                INNER JOIN League as l\n",
    "                                ON m.league_id = l.id\n",
    "                                WHERE c.name IN ('England', 'Germany', 'Italy', 'Spain')\n",
    "                                GROUP BY c.name, l.name\n",
    "                                ORDER BY AVG(m.home_team_goal + m.away_team_goal) DESC\"\"\", conn)\n",
    "print(match_stats)\n",
    "print('\\nThe German Bundesliga averaged the most goals per game over the seasons. The games were also the closest with the smallest difference in the average amount of goals scored by the home and away team. ')\n",
    "print('\\nHome field advantage was most prevalent in the Spanish league.')"
   ]
  },
  {
   "cell_type": "code",
   "execution_count": 81,
   "metadata": {},
   "outputs": [
    {
     "name": "stdout",
     "output_type": "stream",
     "text": [
      "      season  goals_scored  goals_per_game\n",
      "0  2013/2014          4099        2.834716\n",
      "1  2012/2013          4055        2.804288\n",
      "2  2010/2011          3954        2.734440\n",
      "3  2009/2010          3942        2.726141\n",
      "4  2008/2009          3925        2.714385\n",
      "5  2011/2012          3916        2.750000\n",
      "6  2015/2016          3914        2.706777\n",
      "7  2014/2015          3845        2.660900\n",
      "\n",
      "The 2013/2014 season was the most exciting (in terms of goal scoring) overall for the English, German, Italian, and Spanish leagues\n"
     ]
    }
   ],
   "source": [
    "### Which Season was the most exciting overall for the English, German, Spanish, and Italian Leagues? ###\n",
    "\n",
    "season_stats = pd.read_sql(\"\"\"SELECT m.season, SUM(m.home_team_goal + m.away_team_goal) AS goals_scored, AVG(m.home_team_goal + m.away_team_goal) AS goals_per_game\n",
    "                                FROM Match as m\n",
    "                                INNER JOIN Country as c \n",
    "                                ON m.country_id = c.id\n",
    "                                WHERE c.name IN ('England', 'Germany', 'Italy', 'Spain')\n",
    "                                GROUP BY m.season\n",
    "                                ORDER BY SUM(m.home_team_goal + m.away_team_goal) DESC\"\"\", conn)\n",
    "print(season_stats)\n",
    "print('\\nThe 2013/2014 season was the most exciting (in terms of goal scoring) overall for the English, German, Italian, and Spanish leagues')"
   ]
  },
  {
   "cell_type": "code",
   "execution_count": 8,
   "metadata": {},
   "outputs": [
    {
     "name": "stdout",
     "output_type": "stream",
     "text": [
      "      season                    name  home_team_api_id  away_team_api_id  home_team_goal  away_team_goal\n",
      "0  2008/2009  Belgium Jupiler League              9987              9993               1               1\n",
      "1  2008/2009  Belgium Jupiler League             10000              9994               0               0\n",
      "2  2008/2009  Belgium Jupiler League              9984              8635               0               3\n",
      "3  2008/2009  Belgium Jupiler League              9991              9998               5               0\n",
      "4  2008/2009  Belgium Jupiler League              7947              9985               1               3\n",
      "\n",
      "Adding points awarded to each team after game \n",
      "\n",
      "   home_team_goal  away_team_goal  home_points  away_points\n",
      "0               1               1            1            1\n",
      "1               0               0            1            1\n",
      "2               0               3            0            3\n",
      "3               5               0            3            0\n",
      "4               1               3            0            3\n"
     ]
    }
   ],
   "source": [
    "### Champions of Each Season for Each League ###\n",
    "matches = pd.read_sql(\"\"\"SELECT m.season, l.name, m.home_team_api_id, m.away_team_api_id, m.home_team_goal, m.away_team_goal\n",
    "                            FROM Match as m\n",
    "                            INNER JOIN League as l\n",
    "                            ON m.league_id = l.id\"\"\", conn)\n",
    "print(matches.head(5))\n",
    "\n",
    "# add win/loss/tie points for both home and away #\n",
    "matches['home_points'] = ''\n",
    "matches['away_points'] = ''\n",
    "for idx, row in matches.iterrows():\n",
    "    if row['home_team_goal'] > row['away_team_goal']:\n",
    "        matches.loc[idx, 'home_points'] = 3\n",
    "        matches.loc[idx, 'away_points'] = 0\n",
    "    elif row['home_team_goal'] < row['away_team_goal']:\n",
    "        matches.loc[idx, 'home_points'] = 0\n",
    "        matches.loc[idx, 'away_points'] = 3\n",
    "    else:\n",
    "        matches.loc[idx, 'home_points'] = 1\n",
    "        matches.loc[idx, 'away_points'] = 1\n",
    "\n",
    "print('\\nAdding points awarded to each team after game', '\\n')\n",
    "print(matches[['home_team_goal', 'away_team_goal', 'home_points', 'away_points']].head(5))"
   ]
  },
  {
   "cell_type": "code",
   "execution_count": 9,
   "metadata": {},
   "outputs": [
    {
     "name": "stdout",
     "output_type": "stream",
     "text": [
      "      season                  league          home_team         away_team  home_team_goal  away_team_goal  home_points  away_points\n",
      "0  2008/2009  Belgium Jupiler League           KRC Genk      Beerschot AC               1               1            1            1\n",
      "1  2008/2009  Belgium Jupiler League   SV Zulte-Waregem  Sporting Lokeren               0               0            1            1\n",
      "2  2008/2009  Belgium Jupiler League  KSV Cercle Brugge    RSC Anderlecht               0               3            0            3\n"
     ]
    }
   ],
   "source": [
    "### Assigning Team Names based on api_id ###\n",
    "\n",
    "teams = pd.read_sql(\"\"\"SELECT team_api_id, team_long_name\n",
    "                        FROM Team\"\"\", conn)\n",
    "\n",
    "for idx, row in matches.iterrows():\n",
    "    for idx2, row2 in teams.iterrows():\n",
    "        if row['home_team_api_id'] == row2['team_api_id']:\n",
    "            matches.loc[idx, 'home_team_api_id'] = row2['team_long_name']\n",
    "        elif row['away_team_api_id'] == row2['team_api_id']:\n",
    "            matches.loc[idx, 'away_team_api_id'] = row2['team_long_name']\n",
    "\n",
    "matches.columns = ['season', 'league', 'home_team', 'away_team', 'home_team_goal', 'away_team_goal', 'home_points', 'away_points']\n",
    "print(matches.head(3))"
   ]
  },
  {
   "cell_type": "code",
   "execution_count": 153,
   "metadata": {},
   "outputs": [
    {
     "name": "stdout",
     "output_type": "stream",
     "text": [
      "         season                    league                     team  home_points  away_points  total_points\n",
      "0     2008/2009    Belgium Jupiler League             Beerschot AC           30           12            42\n",
      "1     2008/2009    Belgium Jupiler League           Club Brugge KV           35           24            59\n",
      "2     2008/2009    Belgium Jupiler League            FCV Dender EH           19           16            35\n",
      "3     2008/2009    Belgium Jupiler League                 KAA Gent           30           29            59\n",
      "4     2008/2009    Belgium Jupiler League                 KRC Genk           26           24            50\n",
      "...         ...                       ...                      ...          ...          ...           ...\n",
      "1473  2015/2016  Switzerland Super League                  FC Thun           23           18            41\n",
      "1474  2015/2016  Switzerland Super League                 FC Vaduz           20           16            36\n",
      "1475  2015/2016  Switzerland Super League                FC Zürich           19           15            34\n",
      "1476  2015/2016  Switzerland Super League  Grasshopper Club Zürich           30           23            53\n",
      "1477  2015/2016  Switzerland Super League                   Lugano           22           13            35\n",
      "\n",
      "[1478 rows x 6 columns]\n"
     ]
    }
   ],
   "source": [
    "# Home Points #\n",
    "home = matches.groupby(['season', 'league', 'home_team'])['home_points'].sum()\n",
    "home = home.reset_index()\n",
    "home.columns = ['season', 'league', 'team', 'home_points']\n",
    "\n",
    "# Away Point #\n",
    "away = matches.groupby(['season', 'league', 'away_team'])['away_points'].sum()\n",
    "away = away.reset_index()\n",
    "away.columns = ['season', 'league', 'team', 'away_points']\n",
    "\n",
    "### Total Points ###\n",
    "total = pd.merge(home, away, on=['season', 'league', 'team'], how='inner')\n",
    "total['total_points'] = total['home_points'] + total['away_points']\n",
    "print(total)"
   ]
  },
  {
   "cell_type": "code",
   "execution_count": 41,
   "metadata": {},
   "outputs": [
    {
     "name": "stdout",
     "output_type": "stream",
     "text": [
      "\n",
      "League:  Belgium Jupiler League\n",
      "RSC Anderlecht:  5 league titles\n",
      "\n",
      "League:  England Premier League\n",
      "Manchester United:  3 league titles\n",
      "\n",
      "League:  France Ligue 1\n",
      "Paris Saint-Germain:  4 league titles\n",
      "\n",
      "League:  Germany 1. Bundesliga\n",
      "FC Bayern Munich:  5 league titles\n",
      "\n",
      "League:  Italy Serie A\n",
      "Juventus:  5 league titles\n",
      "\n",
      "League:  Netherlands Eredivisie\n",
      "Ajax:  4 league titles\n",
      "\n",
      "League:  Poland Ekstraklasa\n",
      "Legia Warszawa:  4 league titles\n",
      "\n",
      "League:  Portugal Liga ZON Sagres\n",
      "FC Porto:  4 league titles\n",
      "\n",
      "League:  Scotland Premier League\n",
      "Celtic:  5 league titles\n",
      "\n",
      "League:  Spain LIGA BBVA\n",
      "FC Barcelona:  6 league titles\n",
      "\n",
      "League:  Switzerland Super League\n",
      "FC Basel:  7 league titles\n"
     ]
    }
   ],
   "source": [
    "### Which Teams Won the Most League Titles During 2008 - 2016?? ###\n",
    "for league in list(total.league.unique()): \n",
    "    print('\\nLeague: ', league)\n",
    "    champions = []\n",
    "    for season in list(total.season.unique()):\n",
    "        result = total.loc[(total['league'] == league) & (total['season'] == season)]\n",
    "        winner = result.loc[result['total_points'] == max(result['total_points'])]['team']\n",
    "        champions.append(winner.unique()[0])\n",
    "        most_frequent = max(set(champions), key=champions.count)\n",
    "    print(most_frequent + ': ', str(champions.count(most_frequent)) + ' league titles')"
   ]
  },
  {
   "cell_type": "markdown",
   "metadata": {},
   "source": [
    "# English League Analytics "
   ]
  },
  {
   "cell_type": "code",
   "execution_count": 85,
   "metadata": {},
   "outputs": [
    {
     "name": "stdout",
     "output_type": "stream",
     "text": [
      "      season  home_goals  away_goals  goals_per_game  total_goals\n",
      "0  2008/2009    1.400000    1.078947        2.478947          942\n",
      "1  2009/2010    1.697368    1.073684        2.771053         1053\n",
      "2  2010/2011    1.623684    1.173684        2.797368         1063\n",
      "3  2011/2012    1.589474    1.215789        2.805263         1066\n",
      "4  2012/2013    1.557895    1.239474        2.797368         1063\n",
      "5  2013/2014    1.573684    1.194737        2.768421         1052\n",
      "6  2014/2015    1.473684    1.092105        2.565789          975\n",
      "7  2015/2016    1.492105    1.207895        2.700000         1026\n",
      "\n",
      "2011/2012 Season was the best season for fans seeking goals\n"
     ]
    }
   ],
   "source": [
    "### Seasonal Goals Breakdown ###\n",
    "english_goals = pd.read_sql(\"\"\"SELECT m.season, AVG(m.home_team_goal) AS home_goals, AVG(m.away_team_goal) AS away_goals, AVG(m.home_team_goal + m.away_team_goal) AS goals_per_game, SUM(m.home_team_goal + m.away_team_goal) AS total_goals\n",
    "                                FROM Match as m\n",
    "                                INNER JOIN Country as c\n",
    "                                ON m.country_id = c.id\n",
    "                                WHERE c.name = 'England'\n",
    "                                GROUP BY m.season\"\"\", conn)\n",
    "print(english_goals)\n",
    "print('\\n2011/2012 Season was the best season for fans seeking goals')"
   ]
  },
  {
   "cell_type": "code",
   "execution_count": 92,
   "metadata": {},
   "outputs": [
    {
     "name": "stdout",
     "output_type": "stream",
     "text": [
      "      season  diff(home-away goals per game)\n",
      "0  2015/2016                        0.284211\n",
      "1  2012/2013                        0.318421\n",
      "2  2008/2009                        0.321053\n",
      "3  2011/2012                        0.373684\n",
      "4  2013/2014                        0.378947\n",
      "5  2014/2015                        0.381579\n",
      "6  2010/2011                        0.450000\n",
      "7  2009/2010                        0.623684\n",
      "\n",
      "The difference in the a teams goal scoring ability between home and away matches was at its lowest during the 2015/2016 season and at its highest during the 2009/2010 season\n"
     ]
    }
   ],
   "source": [
    "### Which season were the home fans the best/worst?? (home field advantage) ###\n",
    "english_goals = pd.read_sql(\"\"\"SELECT m.season, AVG(m.home_team_goal - m.away_team_goal) AS 'diff(home-away goals per game)'\n",
    "                                FROM Match as m\n",
    "                                INNER JOIN Country as c\n",
    "                                ON m.country_id = c.id\n",
    "                                WHERE c.name = 'England'\n",
    "                                GROUP BY m.season\n",
    "                                ORDER BY AVG(m.home_team_goal - m.away_team_goal) \"\"\", conn)\n",
    "print(english_goals)\n",
    "print('\\nThe difference in the a teams goal scoring ability between home and away matches was at its lowest during the 2015/2016 season and at its highest during the 2009/2010 season')"
   ]
  },
  {
   "cell_type": "code",
   "execution_count": 125,
   "metadata": {},
   "outputs": [
    {
     "name": "stdout",
     "output_type": "stream",
     "text": [
      "      season           Champion\n",
      "0  2008/2009  Manchester United\n",
      "1  2009/2010            Chelsea\n",
      "2  2010/2011  Manchester United\n",
      "3  2011/2012    Manchester City\n",
      "4  2012/2013  Manchester United\n",
      "5  2013/2014    Manchester City\n",
      "6  2014/2015            Chelsea\n",
      "7  2015/2016     Leicester City\n"
     ]
    }
   ],
   "source": [
    "### League Champs Per Season ### \n",
    "england = total.loc[total['league'] == 'England Premier League']\n",
    "for season in list(england['season'].unique()):\n",
    "    season_df = england.loc[(england['season'] == season) & (england['league'] == 'England Premier League')]\n",
    "    champ = season_df.loc[season_df['total_points'] == max(season_df['total_points'])]['team'].unique()[0]\n",
    "    for idx, row in england.iterrows():\n",
    "        if row['season'] == season:\n",
    "            england.loc[idx, 'Champion'] = champ\n",
    "champs = pd.DataFrame(england.groupby('season')['Champion'].agg(pd.Series.mode).reset_index())\n",
    "print(champs)"
   ]
  },
  {
   "cell_type": "markdown",
   "metadata": {},
   "source": [
    "**Offense : Most Goals Per Season (home/away/total) Compared to Champion of that Season**"
   ]
  },
  {
   "cell_type": "code",
   "execution_count": 144,
   "metadata": {},
   "outputs": [
    {
     "name": "stdout",
     "output_type": "stream",
     "text": [
      "      season    most_home_goals  home_goals           champion  champ_home_goals\n",
      "0  2008/2009  Manchester United          43  Manchester United                43\n",
      "1  2009/2010            Chelsea          68            Chelsea                68\n",
      "2  2010/2011  Manchester United          49  Manchester United                49\n",
      "3  2011/2012    Manchester City          55    Manchester City                55\n",
      "4  2012/2013            Arsenal          47  Manchester United                45\n",
      "5  2013/2014    Manchester City          63    Manchester City                63\n",
      "6  2014/2015    Manchester City          44            Chelsea                36\n",
      "7  2015/2016    Manchester City          47     Leicester City                35\n"
     ]
    }
   ],
   "source": [
    "import collections\n",
    "\n",
    "# Home Goals #\n",
    "season_dfs = []\n",
    "season_champs = []\n",
    "for season in list(matches['season'].unique()):\n",
    "    total_goals = matches.loc[(matches['season'] == season) & (matches['league'] == 'England Premier League')]\n",
    "    goals = collections.defaultdict(list)\n",
    "    for team in list(total_goals['home_team'].unique()):\n",
    "        season_team = total_goals.loc[total_goals['home_team'] == team]\n",
    "        team_home_goals = np.sum(season_team['home_team_goal'])\n",
    "        goals['season'].append(season)\n",
    "        goals['team'].append(team)\n",
    "        goals['home_goals'].append(team_home_goals)\n",
    "    season_df = pd.DataFrame(goals)\n",
    "    max_goals = season_df.loc[season_df['home_goals'] == max(season_df['home_goals'])]\n",
    "    max_goals.columns = ['season', 'most_home_goals', 'home_goals']\n",
    "    season_dfs.append(max_goals)\n",
    "    champ = champs.loc[champs['season'] == season]['Champion'].unique()[0]\n",
    "    champ_goals = season_df.loc[season_df['team'] == champ]\n",
    "    champ_goals.columns = ['season', 'champion', 'champ_home_goals']\n",
    "    season_champs.append(champ_goals)\n",
    "home_goals = pd.concat(season_dfs)\n",
    "champs_goals = pd.concat(season_champs)\n",
    "home_champion = pd.merge(home_goals, champs_goals, how='inner', on='season')\n",
    "print(home_champion)"
   ]
  },
  {
   "cell_type": "code",
   "execution_count": 145,
   "metadata": {},
   "outputs": [
    {
     "name": "stdout",
     "output_type": "stream",
     "text": [
      "      season    most_away_goals  away_goals           champion  champ_away_goals\n",
      "0  2008/2009            Arsenal          37  Manchester United                25\n",
      "1  2009/2010            Arsenal          35            Chelsea                35\n",
      "2  2009/2010            Chelsea          35            Chelsea                35\n",
      "3  2010/2011            Arsenal          39  Manchester United                29\n",
      "4  2011/2012    Manchester City          38    Manchester City                38\n",
      "5  2012/2013  Manchester United          41  Manchester United                41\n",
      "6  2013/2014          Liverpool          48    Manchester City                39\n",
      "7  2014/2015    Manchester City          39            Chelsea                37\n",
      "8  2015/2016  Tottenham Hotspur          34     Leicester City                33\n",
      "9  2015/2016            Arsenal          34     Leicester City                33\n"
     ]
    }
   ],
   "source": [
    "# Away Goals #\n",
    "season_dfs = []\n",
    "season_champs = []\n",
    "for season in list(matches['season'].unique()):\n",
    "    total_goals = matches.loc[(matches['season'] == season) & (matches['league'] == 'England Premier League')]\n",
    "    goals = collections.defaultdict(list)\n",
    "    for team in list(total_goals['away_team'].unique()):\n",
    "        season_team = total_goals.loc[total_goals['away_team'] == team]\n",
    "        team_home_goals = np.sum(season_team['away_team_goal'])\n",
    "        goals['season'].append(season)\n",
    "        goals['team'].append(team)\n",
    "        goals['away_goals'].append(team_home_goals)\n",
    "    season_df = pd.DataFrame(goals)\n",
    "    max_goals = season_df.loc[season_df['away_goals'] == max(season_df['away_goals'])]\n",
    "    max_goals.columns = ['season', 'most_away_goals', 'away_goals']\n",
    "    season_dfs.append(max_goals)\n",
    "    champ = champs.loc[champs['season'] == season]['Champion'].unique()[0]\n",
    "    champ_goals = season_df.loc[season_df['team'] == champ]\n",
    "    champ_goals.columns = ['season', 'champion', 'champ_away_goals']\n",
    "    season_champs.append(champ_goals)\n",
    "home_goals = pd.concat(season_dfs)\n",
    "champs_goals = pd.concat(season_champs)\n",
    "home_champion = pd.merge(home_goals, champs_goals, how='inner', on='season')\n",
    "print(home_champion)"
   ]
  },
  {
   "cell_type": "code",
   "execution_count": 147,
   "metadata": {},
   "outputs": [
    {
     "name": "stdout",
     "output_type": "stream",
     "text": [
      "      season         most_goals  goals           champion  champ_goals\n",
      "0  2008/2009          Liverpool     77  Manchester United           68\n",
      "1  2009/2010            Chelsea    103            Chelsea          103\n",
      "2  2010/2011  Manchester United     78  Manchester United           78\n",
      "3  2011/2012    Manchester City     93    Manchester City           93\n",
      "4  2012/2013  Manchester United     86  Manchester United           86\n",
      "5  2013/2014    Manchester City    102    Manchester City          102\n",
      "6  2014/2015    Manchester City     83            Chelsea           73\n",
      "7  2015/2016    Manchester City     71     Leicester City           68\n"
     ]
    }
   ],
   "source": [
    "# Total Goals #\n",
    "season_dfs = []\n",
    "season_champs = []\n",
    "for season in list(matches['season'].unique()):\n",
    "    total_goals = matches.loc[(matches['season'] == season) & (matches['league'] == 'England Premier League')]\n",
    "    goals = collections.defaultdict(list)\n",
    "    for team in list(total_goals['home_team'].unique()):\n",
    "        season_home = total_goals.loc[total_goals['home_team'] == team]\n",
    "        season_away = total_goals.loc[total_goals['away_team'] == team]\n",
    "        team_home_goals = np.sum(season_home['home_team_goal'])\n",
    "        team_away_goals = np.sum(season_away['away_team_goal'])\n",
    "        goals['season'].append(season)\n",
    "        goals['team'].append(team)\n",
    "        goals['total_goals'].append(team_home_goals + team_away_goals)\n",
    "    season_df = pd.DataFrame(goals)\n",
    "    max_goals = season_df.loc[season_df['total_goals'] == max(season_df['total_goals'])]\n",
    "    max_goals.columns = ['season', 'most_goals', 'goals']\n",
    "    season_dfs.append(max_goals)\n",
    "    champ = champs.loc[champs['season'] == season]['Champion'].unique()[0]\n",
    "    champ_goals = season_df.loc[season_df['team'] == champ]\n",
    "    champ_goals.columns = ['season', 'champion', 'champ_goals']\n",
    "    season_champs.append(champ_goals)\n",
    "home_goals = pd.concat(season_dfs)\n",
    "champs_goals = pd.concat(season_champs)\n",
    "home_champion = pd.merge(home_goals, champs_goals, how='inner', on='season')\n",
    "print(home_champion)"
   ]
  },
  {
   "cell_type": "markdown",
   "metadata": {},
   "source": [
    "**Defense: Does Defense Really Win Championships? Goals Against - (Home/Away/Total)**"
   ]
  },
  {
   "cell_type": "code",
   "execution_count": 148,
   "metadata": {},
   "outputs": [
    {
     "name": "stdout",
     "output_type": "stream",
     "text": [
      "       season least_goals_against  goals_against(home)           champion  champ_goals_against(home)\n",
      "0   2008/2009   Tottenham Hotspur                   10  Manchester United                         13\n",
      "1   2009/2010   Manchester United                   12            Chelsea                         14\n",
      "2   2009/2010   Tottenham Hotspur                   12            Chelsea                         14\n",
      "3   2010/2011   Manchester United                   12  Manchester United                         12\n",
      "4   2010/2011     Manchester City                   12  Manchester United                         12\n",
      "5   2011/2012     Manchester City                   12    Manchester City                         12\n",
      "6   2012/2013     Manchester City                   15  Manchester United                         19\n",
      "7   2013/2014             Arsenal                   11    Manchester City                         13\n",
      "8   2013/2014             Chelsea                   11    Manchester City                         13\n",
      "9   2014/2015             Chelsea                    9            Chelsea                          9\n",
      "10  2015/2016   Manchester United                    9     Leicester City                         18\n"
     ]
    }
   ],
   "source": [
    "# Home Goals Against #\n",
    "season_dfs = []\n",
    "season_champs = []\n",
    "for season in list(matches['season'].unique()):\n",
    "    total_goals = matches.loc[(matches['season'] == season) & (matches['league'] == 'England Premier League')]\n",
    "    goals = collections.defaultdict(list)\n",
    "    for team in list(total_goals['home_team'].unique()):\n",
    "        season_team = total_goals.loc[total_goals['home_team'] == team]\n",
    "        team_home_goals = np.sum(season_team['away_team_goal'])\n",
    "        goals['season'].append(season)\n",
    "        goals['team'].append(team)\n",
    "        goals['goals_against(home)'].append(team_home_goals)\n",
    "    season_df = pd.DataFrame(goals)\n",
    "    max_goals = season_df.loc[season_df['goals_against(home)'] == min(season_df['goals_against(home)'])]\n",
    "    max_goals.columns = ['season', 'least_goals_against', 'goals_against(home)']\n",
    "    season_dfs.append(max_goals)\n",
    "    champ = champs.loc[champs['season'] == season]['Champion'].unique()[0]\n",
    "    champ_goals = season_df.loc[season_df['team'] == champ]\n",
    "    champ_goals.columns = ['season', 'champion', 'champ_goals_against(home)']\n",
    "    season_champs.append(champ_goals)\n",
    "home_goals = pd.concat(season_dfs)\n",
    "champs_goals = pd.concat(season_champs)\n",
    "home_champion = pd.merge(home_goals, champs_goals, how='inner', on='season')\n",
    "print(home_champion)"
   ]
  },
  {
   "cell_type": "code",
   "execution_count": 149,
   "metadata": {},
   "outputs": [
    {
     "name": "stdout",
     "output_type": "stream",
     "text": [
      "      season least_goals_against  goals_against(away)           champion  champ_goals_against(away)\n",
      "0  2008/2009   Manchester United                   11  Manchester United                         11\n",
      "1  2009/2010   Manchester United                   16            Chelsea                         18\n",
      "2  2010/2011             Chelsea                   20  Manchester United                         25\n",
      "3  2010/2011              Fulham                   20  Manchester United                         25\n",
      "4  2011/2012   Manchester United                   14    Manchester City                         17\n",
      "5  2012/2013             Arsenal                   14  Manchester United                         24\n",
      "6  2013/2014             Chelsea                   16    Manchester City                         24\n",
      "7  2014/2015         Southampton                   20            Chelsea                         23\n",
      "8  2015/2016      Leicester City                   18     Leicester City                         18\n"
     ]
    }
   ],
   "source": [
    "# Away Goals Against #\n",
    "season_dfs = []\n",
    "season_champs = []\n",
    "for season in list(matches['season'].unique()):\n",
    "    total_goals = matches.loc[(matches['season'] == season) & (matches['league'] == 'England Premier League')]\n",
    "    goals = collections.defaultdict(list)\n",
    "    for team in list(total_goals['home_team'].unique()):\n",
    "        season_team = total_goals.loc[total_goals['away_team'] == team]\n",
    "        team_home_goals = np.sum(season_team['home_team_goal'])\n",
    "        goals['season'].append(season)\n",
    "        goals['team'].append(team)\n",
    "        goals['goals_against(away)'].append(team_home_goals)\n",
    "    season_df = pd.DataFrame(goals)\n",
    "    max_goals = season_df.loc[season_df['goals_against(away)'] == min(season_df['goals_against(away)'])]\n",
    "    max_goals.columns = ['season', 'least_goals_against', 'goals_against(away)']\n",
    "    season_dfs.append(max_goals)\n",
    "    champ = champs.loc[champs['season'] == season]['Champion'].unique()[0]\n",
    "    champ_goals = season_df.loc[season_df['team'] == champ]\n",
    "    champ_goals.columns = ['season', 'champion', 'champ_goals_against(away)']\n",
    "    season_champs.append(champ_goals)\n",
    "home_goals = pd.concat(season_dfs)\n",
    "champs_goals = pd.concat(season_champs)\n",
    "home_champion = pd.merge(home_goals, champs_goals, how='inner', on='season')\n",
    "print(home_champion)"
   ]
  },
  {
   "cell_type": "code",
   "execution_count": 151,
   "metadata": {},
   "outputs": [
    {
     "name": "stdout",
     "output_type": "stream",
     "text": [
      "       season least_goals_against  goals_against           champion  champ_goals_against\n",
      "0   2008/2009   Manchester United             24  Manchester United                   24\n",
      "1   2008/2009             Chelsea             24  Manchester United                   24\n",
      "2   2009/2010   Manchester United             28            Chelsea                   32\n",
      "3   2010/2011             Chelsea             33  Manchester United                   37\n",
      "4   2010/2011     Manchester City             33  Manchester United                   37\n",
      "5   2011/2012     Manchester City             29    Manchester City                   29\n",
      "6   2012/2013     Manchester City             34  Manchester United                   43\n",
      "7   2013/2014             Chelsea             27    Manchester City                   37\n",
      "8   2014/2015             Chelsea             32            Chelsea                   32\n",
      "9   2015/2016   Manchester United             35     Leicester City                   36\n",
      "10  2015/2016   Tottenham Hotspur             35     Leicester City                   36\n"
     ]
    }
   ],
   "source": [
    "# Total Goals Against #\n",
    "season_dfs = []\n",
    "season_champs = []\n",
    "for season in list(matches['season'].unique()):\n",
    "    total_goals = matches.loc[(matches['season'] == season) & (matches['league'] == 'England Premier League')]\n",
    "    goals = collections.defaultdict(list)\n",
    "    for team in list(total_goals['home_team'].unique()):\n",
    "        season_team_home = total_goals.loc[total_goals['home_team'] == team]\n",
    "        team_home_goals = np.sum(season_team_home['away_team_goal'])\n",
    "        season_team_away = total_goals.loc[total_goals['away_team'] == team]\n",
    "        team_away_goals = np.sum(season_team_away['home_team_goal'])\n",
    "        goals['season'].append(season)\n",
    "        goals['team'].append(team)\n",
    "        goals['goals_against'].append(team_home_goals + team_away_goals)\n",
    "    season_df = pd.DataFrame(goals)\n",
    "    max_goals = season_df.loc[season_df['goals_against'] == min(season_df['goals_against'])]\n",
    "    max_goals.columns = ['season', 'least_goals_against', 'goals_against']\n",
    "    season_dfs.append(max_goals)\n",
    "    champ = champs.loc[champs['season'] == season]['Champion'].unique()[0]\n",
    "    champ_goals = season_df.loc[season_df['team'] == champ]\n",
    "    champ_goals.columns = ['season', 'champion', 'champ_goals_against']\n",
    "    season_champs.append(champ_goals)\n",
    "home_goals = pd.concat(season_dfs)\n",
    "champs_goals = pd.concat(season_champs)\n",
    "home_champion = pd.merge(home_goals, champs_goals, how='inner', on='season')\n",
    "print(home_champion)"
   ]
  },
  {
   "cell_type": "markdown",
   "metadata": {},
   "source": [
    "# What's the Record A Team Can Strive to Have to Become Champions? (Based on Past Records of League Champions) "
   ]
  },
  {
   "cell_type": "code",
   "execution_count": 179,
   "metadata": {},
   "outputs": [
    {
     "name": "stdout",
     "output_type": "stream",
     "text": [
      "      season               team                  league  home_points  away_points  total_points   home(%)   away(%)\n",
      "0  2008/2009  Manchester United  England Premier League           50           40            90  0.555556  0.444444\n",
      "1  2009/2010            Chelsea  England Premier League           52           34            86  0.604651  0.395349\n",
      "2  2010/2011  Manchester United  England Premier League           55           25            80  0.687500  0.312500\n",
      "3  2011/2012    Manchester City  England Premier League           55           34            89  0.617978  0.382022\n",
      "4  2012/2013  Manchester United  England Premier League           48           41            89  0.539326  0.460674\n",
      "5  2013/2014    Manchester City  England Premier League           52           34            86  0.604651  0.395349\n",
      "6  2014/2015            Chelsea  England Premier League           49           38            87  0.563218  0.436782\n",
      "7  2015/2016     Leicester City  England Premier League           42           39            81  0.518519  0.481481\n",
      "\n",
      "Manchester United was the most reliant on their home performances to become champions in the 2010/2011 season while Leceister City was the least reliant on their home performances during their 2015/2016 championship\n"
     ]
    }
   ],
   "source": [
    "### Points Percentages ###\n",
    "total_england = total.loc[total['league'] == 'England Premier League']\n",
    "champs.columns = ['season', 'team']\n",
    "champ_points = pd.merge(champs, total_england, how='inner', on=['season', 'team'])\n",
    "champ_points['home(%)'] = champ_points['home_points'] / champ_points['total_points']\n",
    "champ_points['away(%)'] = champ_points['away_points'] / champ_points['total_points']\n",
    "print(champ_points)\n",
    "print('\\nManchester United was the most reliant on their home performances to become champions in the 2010/2011 season while Leceister City was the least reliant on their home performances during their 2015/2016 championship')"
   ]
  },
  {
   "cell_type": "markdown",
   "metadata": {},
   "source": [
    "**Summary of Points Needed to Become Champions During These Seasons**"
   ]
  },
  {
   "cell_type": "code",
   "execution_count": 176,
   "metadata": {},
   "outputs": [
    {
     "name": "stdout",
     "output_type": "stream",
     "text": [
      "                        home_points  away_points  total_points   home(%)   away(%)\n",
      "league                                                                            \n",
      "England Premier League       50.375       35.625          86.0  0.586425  0.413575\n"
     ]
    }
   ],
   "source": [
    "summary = champ_points.groupby('league')[['home_points', 'away_points', 'total_points', 'home(%)', 'away(%)']].mean()\n",
    "print(summary)"
   ]
  },
  {
   "cell_type": "markdown",
   "metadata": {},
   "source": [
    "**Where do the points come from? Summarizing the Records of the Champions Throughout the Seasons**"
   ]
  },
  {
   "cell_type": "code",
   "execution_count": 187,
   "metadata": {},
   "outputs": [
    {
     "data": {
      "text/html": [
       "<div>\n",
       "<style scoped>\n",
       "    .dataframe tbody tr th:only-of-type {\n",
       "        vertical-align: middle;\n",
       "    }\n",
       "\n",
       "    .dataframe tbody tr th {\n",
       "        vertical-align: top;\n",
       "    }\n",
       "\n",
       "    .dataframe thead th {\n",
       "        text-align: right;\n",
       "    }\n",
       "</style>\n",
       "<table border=\"1\" class=\"dataframe\">\n",
       "  <thead>\n",
       "    <tr style=\"text-align: right;\">\n",
       "      <th></th>\n",
       "      <th>season</th>\n",
       "      <th>team</th>\n",
       "      <th>home_wins</th>\n",
       "      <th>away_wins</th>\n",
       "      <th>home_tie</th>\n",
       "      <th>away_tie</th>\n",
       "      <th>home_loss</th>\n",
       "      <th>away_loss</th>\n",
       "    </tr>\n",
       "  </thead>\n",
       "  <tbody>\n",
       "    <tr>\n",
       "      <td>0</td>\n",
       "      <td>2008/2009</td>\n",
       "      <td>Manchester United</td>\n",
       "      <td>16</td>\n",
       "      <td>12</td>\n",
       "      <td>2</td>\n",
       "      <td>4</td>\n",
       "      <td>1</td>\n",
       "      <td>3</td>\n",
       "    </tr>\n",
       "    <tr>\n",
       "      <td>1</td>\n",
       "      <td>2009/2010</td>\n",
       "      <td>Chelsea</td>\n",
       "      <td>17</td>\n",
       "      <td>10</td>\n",
       "      <td>1</td>\n",
       "      <td>4</td>\n",
       "      <td>1</td>\n",
       "      <td>5</td>\n",
       "    </tr>\n",
       "    <tr>\n",
       "      <td>2</td>\n",
       "      <td>2010/2011</td>\n",
       "      <td>Manchester United</td>\n",
       "      <td>18</td>\n",
       "      <td>5</td>\n",
       "      <td>1</td>\n",
       "      <td>10</td>\n",
       "      <td>0</td>\n",
       "      <td>4</td>\n",
       "    </tr>\n",
       "    <tr>\n",
       "      <td>3</td>\n",
       "      <td>2011/2012</td>\n",
       "      <td>Manchester City</td>\n",
       "      <td>18</td>\n",
       "      <td>10</td>\n",
       "      <td>1</td>\n",
       "      <td>4</td>\n",
       "      <td>0</td>\n",
       "      <td>5</td>\n",
       "    </tr>\n",
       "    <tr>\n",
       "      <td>4</td>\n",
       "      <td>2012/2013</td>\n",
       "      <td>Manchester United</td>\n",
       "      <td>16</td>\n",
       "      <td>12</td>\n",
       "      <td>0</td>\n",
       "      <td>5</td>\n",
       "      <td>3</td>\n",
       "      <td>2</td>\n",
       "    </tr>\n",
       "    <tr>\n",
       "      <td>5</td>\n",
       "      <td>2013/2014</td>\n",
       "      <td>Manchester City</td>\n",
       "      <td>17</td>\n",
       "      <td>10</td>\n",
       "      <td>1</td>\n",
       "      <td>4</td>\n",
       "      <td>1</td>\n",
       "      <td>5</td>\n",
       "    </tr>\n",
       "    <tr>\n",
       "      <td>6</td>\n",
       "      <td>2014/2015</td>\n",
       "      <td>Chelsea</td>\n",
       "      <td>15</td>\n",
       "      <td>11</td>\n",
       "      <td>4</td>\n",
       "      <td>5</td>\n",
       "      <td>0</td>\n",
       "      <td>3</td>\n",
       "    </tr>\n",
       "    <tr>\n",
       "      <td>7</td>\n",
       "      <td>2015/2016</td>\n",
       "      <td>Leicester City</td>\n",
       "      <td>12</td>\n",
       "      <td>11</td>\n",
       "      <td>6</td>\n",
       "      <td>6</td>\n",
       "      <td>1</td>\n",
       "      <td>2</td>\n",
       "    </tr>\n",
       "  </tbody>\n",
       "</table>\n",
       "</div>"
      ],
      "text/plain": [
       "      season               team  home_wins  away_wins  home_tie  away_tie  home_loss  away_loss\n",
       "0  2008/2009  Manchester United         16         12         2         4          1          3\n",
       "1  2009/2010            Chelsea         17         10         1         4          1          5\n",
       "2  2010/2011  Manchester United         18          5         1        10          0          4\n",
       "3  2011/2012    Manchester City         18         10         1         4          0          5\n",
       "4  2012/2013  Manchester United         16         12         0         5          3          2\n",
       "5  2013/2014    Manchester City         17         10         1         4          1          5\n",
       "6  2014/2015            Chelsea         15         11         4         5          0          3\n",
       "7  2015/2016     Leicester City         12         11         6         6          1          2"
      ]
     },
     "execution_count": 187,
     "metadata": {},
     "output_type": "execute_result"
    }
   ],
   "source": [
    "english_matches = matches.loc[matches['league'] == 'England Premier League']\n",
    "\n",
    "champ_record = collections.defaultdict(list)\n",
    "for season in list(champ_points.season.unique()):\n",
    "    english_season = english_matches.loc[english_matches['season'] == season]\n",
    "    for team in list(champ_points.loc[champ_points['season'] == season].team.unique()):\n",
    "        champ_season = english_season.loc[(english_season['home_team'] == team) | (english_season['away_team'] == team)]\n",
    "        home_win = 0\n",
    "        home_tie = 0\n",
    "        home_loss = 0\n",
    "        away_win = 0\n",
    "        away_tie = 0\n",
    "        away_loss = 0\n",
    "        for idx, row in champ_season.iterrows():\n",
    "            if row['home_team'] == team and row['home_team_goal'] > row['away_team_goal']:\n",
    "                home_win += 1\n",
    "            elif row['home_team'] == team and row['home_team_goal'] == row['away_team_goal']:\n",
    "                home_tie += 1\n",
    "            elif row['home_team'] == team and row['home_team_goal'] < row['away_team_goal']:\n",
    "                home_loss += 1\n",
    "            if row['away_team'] == team and row['home_team_goal'] < row['away_team_goal']:\n",
    "                away_win += 1\n",
    "            elif row['away_team'] == team and row['home_team_goal'] == row['away_team_goal']:\n",
    "                away_tie += 1\n",
    "            elif row['away_team'] == team and row['home_team_goal'] > row['away_team_goal']:\n",
    "                away_loss += 1\n",
    "        champ_record['season'].append(season)\n",
    "        champ_record['team'].append(team)\n",
    "        champ_record['home_wins'].append(home_win)\n",
    "        champ_record['away_wins'].append(away_win)\n",
    "        champ_record['home_tie'].append(home_tie)\n",
    "        champ_record['away_tie'].append(away_tie)\n",
    "        champ_record['home_loss'].append(home_loss)\n",
    "        champ_record['away_loss'].append(away_loss)\n",
    "records = pd.DataFrame(champ_record)\n",
    "records                \n",
    "        "
   ]
  },
  {
   "cell_type": "code",
   "execution_count": 234,
   "metadata": {},
   "outputs": [
    {
     "data": {
      "image/png": "[encoded data removed]",
      "text/plain": [
       "<Figure size 1080x1440 with 1 Axes>"
      ]
     },
     "metadata": {},
     "output_type": "display_data"
    },
    {
     "name": "stdout",
     "output_type": "stream",
     "text": [
      "                   league  home_wins  away_wins  home_tie  away_tie  home_loss  away_loss  total_wins  total_tie  total_loss\n",
      "0  England Premier League     16.125     10.125       2.0      5.25      0.875      3.625       26.25       7.25         4.5\n"
     ]
    }
   ],
   "source": [
    "records['total_wins'] = records['home_wins'] + records['away_wins']\n",
    "records['total_loss'] = records['home_loss'] + records['away_loss']\n",
    "records['total_tie'] = records['home_tie'] + records['away_tie']\n",
    "records['league'] = 'England Premier League'\n",
    "record_summary = records.groupby('league')[['home_wins', 'away_wins', 'home_tie', 'away_tie', 'home_loss', 'away_loss', 'total_wins',\n",
    "                                'total_tie', 'total_loss']].mean().reset_index()\n",
    "\n",
    "plt.rcParams['figure.figsize'] = 15, 20\n",
    "\n",
    "group_names=['Win', 'Tie', 'Loss']\n",
    "group_size=[record_summary.loc[:, 'total_wins'][0], record_summary.loc[:, 'total_tie'][0], record_summary.loc[:, 'total_loss'][0]]\n",
    "subgroup_names=['Home', 'Away', 'Home', 'Away', 'Home', 'Away']\n",
    "subgroup_size=[record_summary.loc[:, 'home_wins'][0], record_summary.loc[:, 'away_wins'][0], record_summary.loc[:, 'home_tie'][0],\n",
    "              record_summary.loc[:, 'away_tie'][0], record_summary.loc[:, 'home_loss'][0], record_summary.loc[:, 'away_loss'][0]]\n",
    " \n",
    "plt.rcParams[\"font.size\"] = 30\n",
    "\n",
    "\n",
    "wedges, labels, autopct = plt.pie(group_size, radius=1,\n",
    "        colors=[a(0.8), b(0.8), c(0.8)],\n",
    "        labels=group_names, autopct='%.2f%%',\n",
    "        pctdistance=0.85,\n",
    "        wedgeprops=dict(width=0.3, edgecolor='white'))\n",
    "\n",
    "for label in labels:\n",
    "    label.set_fontsize(30)\n",
    "\n",
    "wedges, labels, autopct = plt.pie(subgroup_size, radius=0.7,\n",
    "        colors=[a(0.5), a(0.3), b(0.3), b(0.5), c(.3), c(.5)],\n",
    "        wedgeprops=dict(width=0.3, edgecolor='white'),\n",
    "        labels=subgroup_names, autopct='%.2f%%',\n",
    "        pctdistance=0.8, labeldistance=0.4)\n",
    "plt.axis('equal')\n",
    "\n",
    "for label in labels:\n",
    "    label.set_fontsize(18)\n",
    "\n",
    "plt.title('2008/2009 - 2015/2016 Average Season Results Needed to Become Champions (38 Games/Season)', fontsize=35, fontweight='bold')\n",
    "plt.show()\n",
    "print(record_summary)\n"
   ]
  },
  {
   "cell_type": "markdown",
   "metadata": {},
   "source": [
    "**Average Record Needed to Win English League: 26-7-5**\n",
    "\n",
    "**Average Points Total to Win English League: 86**"
   ]
  },
  {
   "cell_type": "markdown",
   "metadata": {},
   "source": [
    "\n",
    "\n",
    "\n",
    "# Time of the Season: If We Were to Split the Season into Fall/Winter/Spring, Would We Find Any Noticable Trends Among How the League Performed? \n",
    "\n",
    "# Many Say the Winter Part of the Season is the Toughest, Let's See if the Stats Agree\n",
    "\n",
    "# With 380 Games Total, I'll Split Each Season in the Following Manner;\n",
    "\n",
    "# Fall - 130 Games\n",
    "# Winter - 120 Games\n",
    "# Spring - 130 Games "
   ]
  },
  {
   "cell_type": "code",
   "execution_count": 258,
   "metadata": {},
   "outputs": [
    {
     "name": "stdout",
     "output_type": "stream",
     "text": [
      "                  date     season                  league          home_team             away_team  home_team_goal  away_team_goal\n",
      "0  2008-08-17 00:00:00  2008/2009  England Premier League  Manchester United      Newcastle United               1               1\n",
      "1  2008-08-16 00:00:00  2008/2009  England Premier League            Arsenal  West Bromwich Albion               1               0\n",
      "2  2008-08-16 00:00:00  2008/2009  England Premier League         Sunderland             Liverpool               0               1\n",
      "3040\n"
     ]
    }
   ],
   "source": [
    "dates = pd.read_sql(\"\"\"SELECT m.date, m.season, l.name AS league, m.home_team_api_id, m.away_team_api_id, m.home_team_goal, m.away_team_goal\n",
    "                                FROM Match as m\n",
    "                                INNER JOIN league as l\n",
    "                                ON m.league_id = l.id\n",
    "                                WHERE l.name = 'England Premier League'\"\"\", conn)\n",
    "\n",
    "teams = pd.read_sql(\"\"\"SELECT team_api_id, team_long_name\n",
    "                        FROM Team\"\"\", conn)\n",
    "\n",
    "for idx, row in dates.iterrows():\n",
    "    for idx2, row2 in teams.iterrows():\n",
    "        if row['home_team_api_id'] == row2['team_api_id']:\n",
    "            dates.loc[idx, 'home_team_api_id'] = row2['team_long_name']\n",
    "        elif row['away_team_api_id'] == row2['team_api_id']:\n",
    "            dates.loc[idx, 'away_team_api_id'] = row2['team_long_name']\n",
    "\n",
    "dates.columns = ['date', 'season', 'league', 'home_team', 'away_team', 'home_team_goal', 'away_team_goal']\n",
    "print(dates.head(3))\n",
    "print(len(dates))\n"
   ]
  },
  {
   "cell_type": "code",
   "execution_count": 246,
   "metadata": {},
   "outputs": [
    {
     "name": "stdout",
     "output_type": "stream",
     "text": [
      "         season                  league          home_team             away_team  home_team_goal  away_team_goal  home_points  away_points\n",
      "1728  2008/2009  England Premier League  Manchester United      Newcastle United               1               1            1            1\n",
      "1729  2008/2009  England Premier League            Arsenal  West Bromwich Albion               1               0            3            0\n",
      "1730  2008/2009  England Premier League         Sunderland             Liverpool               0               1            0            3\n",
      "3040\n"
     ]
    }
   ],
   "source": [
    "print(english_matches.head(3))\n",
    "print(len(english_matches))"
   ]
  },
  {
   "cell_type": "code",
   "execution_count": 260,
   "metadata": {},
   "outputs": [
    {
     "name": "stdout",
     "output_type": "stream",
     "text": [
      "      season                  league          home_team             away_team  home_team_goal  away_team_goal  home_points  away_points                 date\n",
      "0  2008/2009  England Premier League  Manchester United      Newcastle United               1               1            1            1  2008-08-17 00:00:00\n",
      "1  2008/2009  England Premier League            Arsenal  West Bromwich Albion               1               0            3            0  2008-08-16 00:00:00\n",
      "2  2008/2009  England Premier League         Sunderland             Liverpool               0               1            0            3  2008-08-16 00:00:00\n",
      "3040\n"
     ]
    }
   ],
   "source": [
    "match_dates = pd.merge(english_matches, dates, how='inner', on=['season','league', 'home_team', 'away_team','home_team_goal', 'away_team_goal'])\n",
    "print(match_dates.head(3))\n",
    "print(len(match_dates))"
   ]
  },
  {
   "cell_type": "code",
   "execution_count": 272,
   "metadata": {},
   "outputs": [
    {
     "name": "stdout",
     "output_type": "stream",
     "text": [
      "\n",
      " 2008/2009: 380\n",
      "Fall:  130 start:  2008-08-16 00:00:00 end:  2008-11-22 00:00:00\n",
      "Winter:  120 start:  2008-11-22 00:00:00 end:  2009-02-21 00:00:00\n",
      "Spring:  130 start:  2009-02-21 00:00:00 end:  2009-05-24 00:00:00\n",
      "\n",
      " 2009/2010: 380\n",
      "Fall:  130 start:  2009-08-15 00:00:00 end:  2009-11-28 00:00:00\n",
      "Winter:  120 start:  2009-11-28 00:00:00 end:  2010-02-10 00:00:00\n",
      "Spring:  130 start:  2010-02-10 00:00:00 end:  2010-05-09 00:00:00\n",
      "\n",
      " 2010/2011: 380\n",
      "Fall:  130 start:  2010-08-14 00:00:00 end:  2010-11-14 00:00:00\n",
      "Winter:  120 start:  2010-11-20 00:00:00 end:  2011-02-05 00:00:00\n",
      "Spring:  130 start:  2011-02-05 00:00:00 end:  2011-05-22 00:00:00\n",
      "\n",
      " 2011/2012: 380\n",
      "Fall:  130 start:  2011-08-13 00:00:00 end:  2011-12-03 00:00:00\n",
      "Winter:  120 start:  2011-12-03 00:00:00 end:  2012-02-12 00:00:00\n",
      "Spring:  130 start:  2012-02-25 00:00:00 end:  2012-05-13 00:00:00\n",
      "\n",
      " 2012/2013: 380\n",
      "Fall:  130 start:  2012-08-18 00:00:00 end:  2012-11-27 00:00:00\n",
      "Winter:  120 start:  2012-11-27 00:00:00 end:  2013-02-03 00:00:00\n",
      "Spring:  130 start:  2013-02-09 00:00:00 end:  2013-05-19 00:00:00\n",
      "\n",
      " 2013/2014: 380\n",
      "Fall:  130 start:  2013-08-17 00:00:00 end:  2013-12-01 00:00:00\n",
      "Winter:  120 start:  2013-12-03 00:00:00 end:  2014-02-09 00:00:00\n",
      "Spring:  130 start:  2014-02-11 00:00:00 end:  2014-05-11 00:00:00\n",
      "\n",
      " 2014/2015: 380\n",
      "Fall:  130 start:  2014-08-16 00:00:00 end:  2014-11-30 00:00:00\n",
      "Winter:  120 start:  2014-12-02 00:00:00 end:  2015-02-11 00:00:00\n",
      "Spring:  130 start:  2015-02-21 00:00:00 end:  2015-05-24 00:00:00\n",
      "\n",
      " 2015/2016: 380\n",
      "Fall:  130 start:  2015-08-08 00:00:00 end:  2015-11-23 00:00:00\n",
      "Winter:  120 start:  2015-11-28 00:00:00 end:  2016-02-07 00:00:00\n",
      "Spring:  130 start:  2016-02-13 00:00:00 end:  2016-05-17 00:00:00\n",
      "\n",
      "       season                  league        home_team             away_team  home_team_goal  away_team_goal  home_points  away_points                 date  total_goals\n",
      "1  2008/2009  England Premier League          Arsenal  West Bromwich Albion               1               0            3            0  2008-08-16 00:00:00            1\n",
      "2  2008/2009  England Premier League       Sunderland             Liverpool               0               1            0            3  2008-08-16 00:00:00            1\n",
      "3  2008/2009  England Premier League  West Ham United        Wigan Athletic               2               1            3            0  2008-08-16 00:00:00            3\n",
      "5  2008/2009  England Premier League          Everton      Blackburn Rovers               2               3            0            3  2008-08-16 00:00:00            5 \n",
      " 1040\n"
     ]
    }
   ],
   "source": [
    "match_dates = match_dates.sort_values('date', ascending=True)\n",
    "match_dates['total_goals'] = match_dates['home_team_goal'] + match_dates['away_team_goal']\n",
    "\n",
    "fall = []\n",
    "winter = []\n",
    "spring = []\n",
    "\n",
    "for season in list(match_dates.season.unique()):\n",
    "    season_df = match_dates.loc[match_dates['season'] == season]\n",
    "    fall_df = season_df.iloc[:130, :]\n",
    "    winter_df = season_df.iloc[130:250, :]\n",
    "    spring_df = season_df.iloc[250:, :]\n",
    "    print('\\n', season + ':', len(season_df))\n",
    "    print('Fall: ', len(fall_df), 'start: ', min(fall_df.date), 'end: ', max(fall_df.date)) \n",
    "    print('Winter: ', len(winter_df), 'start: ', min(winter_df.date), 'end: ', max(winter_df.date)) \n",
    "    print('Spring: ', len(spring_df), 'start: ', min(spring_df.date), 'end: ', max(spring_df.date))\n",
    "    fall.append(fall_df)\n",
    "    winter.append(winter_df)\n",
    "    spring.append(spring_df)\n",
    "\n",
    "fall = pd.concat(fall)\n",
    "winter = pd.concat(winter)\n",
    "spring = pd.concat(spring)\n",
    "\n",
    "print('\\n', fall.head(4), '\\n', len(fall))"
   ]
  },
  {
   "cell_type": "markdown",
   "metadata": {},
   "source": [
    "**2008/2009 - 2015/2016 Fall, Winter, & Spring Average Stats Per Game**"
   ]
  },
  {
   "cell_type": "code",
   "execution_count": 332,
   "metadata": {},
   "outputs": [
    {
     "name": "stdout",
     "output_type": "stream",
     "text": [
      "  Seasonal_Time  home_team_goal  away_team_goal  total_goals  home_points  away_points\n",
      "0          Fall        1.569231        1.198077     2.767308     1.597115     1.138462\n",
      "0        Winter        1.492708        1.138542     2.631250     1.596875     1.118750\n",
      "0        Spring        1.586538        1.140385     2.726923     1.691346     1.082692\n"
     ]
    },
    {
     "data": {
      "text/plain": [
       "<matplotlib.legend.Legend at 0x2685a3b75c8>"
      ]
     },
     "execution_count": 332,
     "metadata": {},
     "output_type": "execute_result"
    },
    {
     "data": {
      "image/png": "[encoded data removed]",
      "text/plain": [
       "<Figure size 936x936 with 1 Axes>"
      ]
     },
     "metadata": {
      "needs_background": "light"
     },
     "output_type": "display_data"
    }
   ],
   "source": [
    "dfs = []\n",
    "iteration = 0\n",
    "for df in [fall, winter, spring]:\n",
    "    iteration += 1\n",
    "    df = df.groupby('league')[['home_team_goal', 'away_team_goal', 'total_goals', 'home_points', 'away_points']].mean().reset_index()\n",
    "    if iteration == 1:\n",
    "        df['Seasonal_Time'] = 'Fall'\n",
    "    elif iteration == 2:\n",
    "        df['Seasonal_Time'] = 'Winter'\n",
    "    else:\n",
    "        df['Seasonal_Time'] = 'Spring'\n",
    "    dfs.append(df)\n",
    "seasonal_df = pd.concat(dfs)\n",
    "seasonal_df = seasonal_df[['Seasonal_Time', 'home_team_goal', 'away_team_goal', 'total_goals', 'home_points', 'away_points']]\n",
    "print(seasonal_df)\n",
    "\n",
    "plt.rcParams['figure.figsize'] = 13, 13\n",
    "plt.rcParams[\"font.weight\"] = \"bold\"\n",
    "plt.rcParams[\"font.family\"] = \"normal\"\n",
    "plt.rcParams[\"font.size\"] = 25\n",
    "plt.rcParams[\"axes.labelweight\"] = \"bold\"\n",
    "plt.rcParams['xtick.labelsize']=18\n",
    "plt.rcParams['ytick.labelsize']=18\n",
    "plt.rcParams['axes.labelsize']=18\n",
    "plt.rcParams['legend.fontsize']: 27\n",
    "\n",
    "\n",
    "# seasonal_df = seasonal_df[['Seasonal_Time', 'home_team_goal', 'away_team_goal' ]]\n",
    "# seasonal_df.plot(x='Seasonal_Time', kind='bar', stacked=True, mark_right=True)\n",
    "# plt.title('Seasonal Time Effect on Goal Scoring Home & Away', fontweight='bold')\n",
    "# plt.ylabel('Goals/Game')\n",
    "# plt.xticks(rotation=45)\n",
    "# plt.legend(fontsize=15, loc='upper center')\n",
    "# plt.show()\n",
    "\n",
    "df_total = seasonal_df['total_goals']\n",
    "df = seasonal_df.iloc[:, :3]\n",
    "df.plot(x = 'Seasonal_Time', kind='barh',stacked = True, mark_right = True)\n",
    "\n",
    "df_rel = df[df.columns[1:]].div(df_total, 0)*100\n",
    "\n",
    "for n in df_rel:\n",
    "    for i, (cs, ab, pc, tot) in enumerate(zip(df.iloc[:, 1:].cumsum(1)[n], df[n], df_rel[n], df_total)):\n",
    "        plt.text(tot, i, str(round(tot, 2)), va='center')\n",
    "        plt.text(cs - ab/2, i, str(np.round(pc, 1)) + '%', va='center', ha='center')\n",
    "\n",
    "plt.title('Seasonal Time Effect on Goal Scoring Home & Away', fontsize=30,fontweight='bold')\n",
    "plt.xlabel('Goals/Game')\n",
    "plt.legend(bbox_to_anchor=(1.05, 1.0), loc='upper left', fontsize=22)\n"
   ]
  },
  {
   "cell_type": "markdown",
   "metadata": {},
   "source": [
    "# Summary: \n",
    "\n",
    "# - Most Goals/Game at the Start of Each Season (Teams Adapting to New Players/Coaches/Style Leading to More Vulnerability on Defense?)\n",
    "# - Winter Was Indeed the Period of the Season in Which Teams Stuggle the Most to Score Goals Home or Away \n",
    "# - At the End of Each Season Teams Appear to Become Strongest at Home, Resulting in a worse away form compared to the start of the season (but still better than winter form)"
   ]
  }
 ],
 "metadata": {
  "kernelspec": {
   "display_name": "Python 3",
   "language": "python",
   "name": "python3"
  },
  "language_info": {
   "codemirror_mode": {
    "name": "ipython",
    "version": 3
   },
   "file_extension": ".py",
   "mimetype": "text/x-python",
   "name": "python",
   "nbconvert_exporter": "python",
   "pygments_lexer": "ipython3",
   "version": "3.7.4"
  }
 },
 "nbformat": 4,
 "nbformat_minor": 2
}
